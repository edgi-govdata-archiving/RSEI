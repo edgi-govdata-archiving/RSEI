{
 "cells": [
  {
   "cell_type": "markdown",
   "metadata": {},
   "source": [
    "## Chart the RSEI Score and Pounds post-treatment values for selected chemicals\n",
    "Compare all USA facilities in RSEI with facilities offered a reporting exemption."
   ]
  },
  {
   "cell_type": "markdown",
   "metadata": {},
   "source": [
    "Chemicals selected (ChemicalNumber in parentheses):\n",
    "\n",
    "'1,2,4-Trichlorobenzene', (564)\n",
    "\n",
    "'1,2,4-Trimethylbenzene', (575)\n",
    "\n",
    "'Benzene', (51)\n",
    "\n",
    "'Hexachlorobenzene', (321)\n",
    "\n",
    "'Mercury', (359)\n",
    "\n",
    "'Mercury compounds', (360)\n",
    "\n",
    "'Polychlorinated biphenyls ', (474)\n",
    "\n",
    "'Polycyclic aromatic compounds' (609)\n",
    "\n",
    "‘Ethylene oxide’, (293)\n",
    "\n",
    "Group the first four benzene-related chemicals in the Benzene chart.\n",
    "\n",
    "Combine Mercury and Mercury compounds\n",
    "\n"
   ]
  },
  {
   "cell_type": "code",
   "execution_count": null,
   "metadata": {},
   "outputs": [],
   "source": [
    "import pandas as pd\n",
    "import matplotlib.pyplot as plt\n",
    "import seaborn as sns"
   ]
  },
  {
   "cell_type": "markdown",
   "metadata": {},
   "source": [
    "The file All-submissions-elements-4-chemicals.csv is produced by the chemicals-by-fac.py program.\n",
    "\n",
    "The file Exemptions-facility-chemicals is produced by running the RSEI.ipynb notebook, with the Exemptions-FullList.csv facilities (FRSID List), Media=[1,2] (air releases)."
   ]
  },
  {
   "cell_type": "code",
   "execution_count": null,
   "metadata": {},
   "outputs": [],
   "source": [
    "usa_filename = '/home/steve/workspace/EDGI/RSEI/CSVs/All-submissions-elements-4-chemicals.csv'\n",
    "exemptions_filename = '/home/steve/workspace/EDGI/RSEI/CSVs/Exemptions-facility_chemicals.csv'"
   ]
  },
  {
   "cell_type": "code",
   "execution_count": null,
   "metadata": {},
   "outputs": [],
   "source": [
    "usa = pd.read_csv(usa_filename)\n",
    "# usa.set_index('Year', inplace=True)\n",
    "usa = usa[usa['Media'].isin([1,2])]\n",
    "usa['Who'] = 'USA'\n",
    "# usa.rename(columns={'USA' : data_column}, inplace=True)\n",
    "\n",
    "exemptions = pd.read_csv(exemptions_filename)\n",
    "# usa.set_index('Year', inplace=True)\n",
    "exemptions['Who'] = 'Exemptions'\n",
    "# usa.rename(columns={'USA' : data_column}, inplace=True)\n",
    "\n",
    "usa = usa[~usa['FacilityID'].isin(exemptions['FacilityID'])]"
   ]
  },
  {
   "cell_type": "code",
   "execution_count": null,
   "metadata": {},
   "outputs": [],
   "source": [
    "\n",
    "def make_chart(graph_title, data_column, y_axis_label, df):\n",
    "    #set seaborn plotting aesthetics\n",
    "    sns.set(style='white')\n",
    "\n",
    "    #create grouped bar chart\n",
    "\n",
    "    fig, ax = plt.subplots(figsize=(10,10))\n",
    "    try:\n",
    "        g = sns.barplot(x='SubmissionYear', y=data_column, hue='Who', data=df)\n",
    "        g.set_title(graph_title)\n",
    "        ax.set_ylabel(y_axis_label)\n",
    "        return g\n",
    "    except TypeError as te:\n",
    "        print(\"TypeError: {}\".format(str(te)))\n",
    "        return None"
   ]
  },
  {
   "cell_type": "code",
   "execution_count": null,
   "metadata": {},
   "outputs": [],
   "source": [
    "chemicals = {51 : 'Benzene', \n",
    "             359 : 'Mercury', \n",
    "             474 : 'Polychorinated biphenyls', \n",
    "             609 : 'Polycyclic aromatic compounds', \n",
    "             293 : 'Ethylene oxide'}\n",
    "\n",
    "for key, value in chemicals.items():\n",
    "    if key == 51:\n",
    "        chemical_usa = usa[usa['ChemicalNumber'].isin([51, 321, 564, 575])]\n",
    "        chemical_exemptions = exemptions[exemptions['Chemical'].isin(['1,2,4-Trichlorobenzene', \n",
    "                                                                      '1,2,4-Trimethylbenzene', \n",
    "                                                                      'Hexachlorobenzene',\n",
    "                                                                      'Benzene'])]\n",
    "    elif key == 359:\n",
    "        chemical_usa = usa[usa['ChemicalNumber'].isin([359, 360])]\n",
    "        chemical_exemptions = exemptions[exemptions['Chemical'].isin(['Mercury', \n",
    "                                                                      'Mercury compounds'])]\n",
    "    else:\n",
    "        chemical_usa = usa[usa['ChemicalNumber'] == key]\n",
    "        chemical_exemptions = exemptions[exemptions['Chemical'] == value]\n",
    "\n",
    "    exemptions_count = len(chemical_exemptions['FacilityID'].unique())\n",
    "    usa_count = len(chemical_usa['FacilityID'].unique())\n",
    "    print(f'{value} - exemptions_count={exemptions_count}, usa_count={usa_count}')\n",
    "\n",
    "    exemptions_to_chart = chemical_exemptions.groupby(['SubmissionYear'], as_index=False).agg({'Score' : 'sum', 'PoundsReleased' : 'sum', 'PoundsPT' : 'sum'})\n",
    "    exemptions_to_chart['Score'] /= exemptions_count\n",
    "    exemptions_to_chart['PoundsReleased'] /= exemptions_count\n",
    "    exemptions_to_chart['PoundsPT'] /= exemptions_count\n",
    "    usa_to_chart = chemical_usa.groupby(['SubmissionYear'], as_index=False).agg({'Score' : 'sum', 'PoundsReleased' : 'sum', 'PoundsPT' : 'sum'})\n",
    "    usa_to_chart['Score'] /= usa_count\n",
    "    usa_to_chart['PoundsReleased'] /= usa_count\n",
    "    usa_to_chart['PoundsPT'] /= usa_count\n",
    "\n",
    "    usa_to_chart['Who'] = 'USA'\n",
    "    exemptions_to_chart['Who'] = 'Exemptions'\n",
    "\n",
    "    to_chart = pd.concat([usa_to_chart, exemptions_to_chart], axis=0)\n",
    "    to_chart['SubmissionYear'] = to_chart['SubmissionYear'].astype(int)\n",
    "\n",
    "    data_column = 'Score'\n",
    "    graph_title = f'{value} - Exemptions and All Other USA Facilities'\n",
    "    y_axis = 'Average RSEI Score - per facility'\n",
    "    display(make_chart(graph_title=graph_title, data_column=data_column, y_axis_label=y_axis, df=to_chart))\n",
    "    \n",
    "    data_column = 'PoundsPT'\n",
    "    graph_title = f'{value} - Exemptions and All Other USA Facilities'\n",
    "    y_axis = 'Average Pounds Post-treatment - per facility'\n",
    "    display(make_chart(graph_title=graph_title, data_column=data_column, y_axis_label=y_axis, df=to_chart))"
   ]
  }
 ],
 "metadata": {
  "kernelspec": {
   "display_name": "venv",
   "language": "python",
   "name": "python3"
  },
  "language_info": {
   "codemirror_mode": {
    "name": "ipython",
    "version": 3
   },
   "file_extension": ".py",
   "mimetype": "text/x-python",
   "name": "python",
   "nbconvert_exporter": "python",
   "pygments_lexer": "ipython3",
   "version": "3.13.3"
  }
 },
 "nbformat": 4,
 "nbformat_minor": 2
}
