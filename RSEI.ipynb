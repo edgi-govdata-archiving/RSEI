{
 "cells": [
  {
   "cell_type": "code",
   "execution_count": null,
   "id": "87474ec8-8718-44ad-b3dd-a55cbfb7f599",
   "metadata": {},
   "outputs": [],
   "source": [
    "# Install our codebase \n",
    "# !pip install ECHO_modules >&/dev/null;\n",
    "!pip install git+https://github.com/edgi-govdata-archiving/ECHO_modules@neighborhoods >&/dev/null;\n",
    "!pip install geopandas >&/dev/null;"
   ]
  },
  {
   "cell_type": "code",
   "execution_count": null,
   "id": "e4946e4c-72c8-4d4f-934b-419f27dd9dee",
   "metadata": {},
   "outputs": [],
   "source": [
    "from ECHO_modules.get_data import get_echo_data\n",
    "from ECHO_modules.utilities import show_region_type_widget, \\\n",
    "    show_state_widget, show_year_range_widget\n",
    "from ECHO_modules.rsei_utilities import show_rsei_pick_region_widget\n",
    "\n",
    "region_type_widget = show_region_type_widget(region_types=('City', 'County', 'State', 'Zip Code', 'Neighborhood'), \n",
    "                                             default_value='City' )\n",
    "state_widget = None\n",
    "# display( region_type_widget )\n",
    "print('(The State will be ignored for Zip Code and Neighborhood regions.)')\n",
    "state_widget = show_state_widget()"
   ]
  },
  {
   "cell_type": "markdown",
   "id": "946996c9-33d3-42d3-bc51-bd36a1028c93",
   "metadata": {},
   "source": [
    "## Select the regions to look for\n",
    "For Neighborhoods, only rectangles are currently supported\n"
   ]
  },
  {
   "cell_type": "code",
   "execution_count": null,
   "id": "2e7178f9-fce4-4653-aaff-d857a510e408",
   "metadata": {},
   "outputs": [],
   "source": [
    "from ECHO_modules.utilities import polygon_map\n",
    "\n",
    "region_widget = None\n",
    "region_type = region_type_widget.value\n",
    "if ( region_type == 'Neighborhood' ):\n",
    "    (map,shapes) = polygon_map()\n",
    "    display(map)\n",
    "elif ( region_type != 'State' ):\n",
    "    region_widget = show_rsei_pick_region_widget( type=region_type,\n",
    "                                           state_widget=state_widget )"
   ]
  },
  {
   "cell_type": "markdown",
   "id": "3b4fac3a",
   "metadata": {},
   "source": [
    "## See facilities for the chosen regions"
   ]
  },
  {
   "cell_type": "code",
   "execution_count": null,
   "id": "9a58daa9-1264-40b3-a95b-eda62ba06a1f",
   "metadata": {},
   "outputs": [],
   "source": [
    "from ECHO_modules.rsei_utilities import get_rsei_facilities\n",
    "\n",
    "state = state_widget.value if state_widget is not None else None\n",
    "regions_selected = None\n",
    "if ( region_type == 'Zip Code' ):\n",
    "    regions_selected = str(region_widget.value)\n",
    "elif ( region_type == 'Neighborhood' ):\n",
    "    regions_selected = shapes.pop()\n",
    "elif ( region_type != 'State' ):\n",
    "    regions_selected = region_widget.value\n",
    "    \n",
    "columns = '\"FacilityName\", \"FacilityID\", \"FacilityNumber\", \"FRSID\", \"Latitude\", \"Longitude\", \"Street\",'\n",
    "columns += '\"City\", \"County\", \"State\", \"ZIPCode\", \"StandardizedParentCompany\"'\n",
    "\n",
    "fac_df = get_rsei_facilities(state=state, region_type=region_type, regions_selected=regions_selected, \n",
    "                             rsei_type='facility', columns=columns)\n",
    "# If the columns aren't specified, all columns are returned (\"select * from ...\")\n",
    "# fac_df = get_rsei_facilities(state=state, region_type=region_type, regions_selected=regions_selected, \n",
    "#                              rsei_type='facility')\n",
    "fac_df"
   ]
  },
  {
   "cell_type": "code",
   "execution_count": null,
   "id": "65aab37d",
   "metadata": {},
   "outputs": [],
   "source": [
    "from ECHO_modules.utilities import mapper\n",
    "\n",
    "map_of_facilities = mapper(fac_df, no_text=False, lat_field='Latitude', long_field='Longitude', name_field='FacilityName')\n",
    "display(map_of_facilities)"
   ]
  },
  {
   "cell_type": "code",
   "execution_count": null,
   "id": "101c0265",
   "metadata": {},
   "outputs": [],
   "source": [
    "from ECHO_modules.utilities import show_year_range_widget\n",
    "year_range = show_year_range_widget()"
   ]
  },
  {
   "cell_type": "code",
   "execution_count": null,
   "id": "8ad194f2",
   "metadata": {},
   "outputs": [],
   "source": [
    "from ECHO_modules.rsei_utilities import get_submissions_by_facilities\n",
    "\n",
    "columns = '\"SubmissionNumber\", \"FacilityNumber\", \"ChemicalNumber\", \"SubmissionYear\", \"OneTimeReleaseQty\", \"TradeSecretInd\"'\n",
    "\n",
    "# sub_df = get_submissions_by_facilities(facilities=None, columns='*', years=year_range.value)\n",
    "sub_df = get_submissions_by_facilities(facilities=fac_df['FacilityNumber'], columns=columns, years=year_range.value)\n",
    "sub_df"
   ]
  },
  {
   "cell_type": "markdown",
   "id": "6bb74dc8",
   "metadata": {},
   "source": [
    "## Add the chemicals to the submissions"
   ]
  },
  {
   "cell_type": "code",
   "execution_count": null,
   "id": "4762937f",
   "metadata": {},
   "outputs": [],
   "source": [
    "from ECHO_modules.rsei_utilities import add_chemical_to_submissions\n",
    "\n",
    "# columns = '\"Chemical\", \"RfCInhale\", \"RfDOral\"'\n",
    "columns = '*'\n",
    "sub1_df = add_chemical_to_submissions(submissions=sub_df, chemical_columns=columns)\n",
    "columns = [\"SubmissionNumber\", \"ChemicalNumber\", \"Chemical\", \"RfCInhale\"]\n",
    "sub1_df[columns]"
   ]
  },
  {
   "cell_type": "markdown",
   "id": "1c08f606",
   "metadata": {},
   "source": [
    "## See offsite facilities for the chosen region"
   ]
  },
  {
   "cell_type": "code",
   "execution_count": null,
   "id": "65f73cde",
   "metadata": {},
   "outputs": [],
   "source": [
    "from ECHO_modules.rsei_utilities import get_rsei_facilities\n",
    "\n",
    "columns = '\"Name\", \"OffsiteID\", \"FacilityNumber\", \"TRIFID\", \"FRSID\", \"Latitude\", \"Longitude\", \"Street\",'\n",
    "columns += '\"City\", \"State\", \"ZIPCode\"'\n",
    "\n",
    "off_df = get_rsei_facilities(state=state, region_type=region_type, regions_selected=regions_selected, \n",
    "                             rsei_type='offsite', columns=columns)\n",
    "off_df"
   ]
  },
  {
   "cell_type": "code",
   "execution_count": null,
   "id": "1d8653c5",
   "metadata": {},
   "outputs": [],
   "source": [
    "\n",
    "from ECHO_modules.utilities import mapper\n",
    "\n",
    "to_map = off_df.dropna(subset=['Latitude', 'Longitude'])\n",
    "map_of_facilities = mapper(to_map, no_text=False, lat_field='Latitude', \n",
    "                           long_field='Longitude', name_field='Name')\n",
    "display(map_of_facilities)"
   ]
  },
  {
   "cell_type": "code",
   "execution_count": null,
   "id": "a7935789-ea73-4df1-8a59-b916efac8b34",
   "metadata": {},
   "outputs": [],
   "source": [
    "\n",
    "# All the releases where media = 1 (I think that's direct air releases) \n",
    "rsql = 'select * from \"releases_data_rsei_v2312\" where \"Media\" <= 2;' \n",
    "get_echo_data(rsql)\n",
    "# All the releases above a certain weight \n",
    "rsql = 'select * from \"releases_data_rsei_v2312\" where \"PoundsReleased\" > 100000;' \n",
    "releases = get_echo_data(rsql)"
   ]
  },
  {
   "cell_type": "code",
   "execution_count": null,
   "id": "7b168bfc-056a-4748-b007-efec9f290382",
   "metadata": {},
   "outputs": [],
   "source": [
    "len(releases)"
   ]
  },
  {
   "cell_type": "code",
   "execution_count": null,
   "id": "be5326f9-fac2-43bb-9726-fcc33fbda33d",
   "metadata": {
    "scrolled": true
   },
   "outputs": [],
   "source": [
    "# All the releases where media = 1 (I think that's direct air releases) \n",
    "media_sql = 'select \"Media\", \"MediaText\" from \"media_data_rsei_v2312\";' \n",
    "media_types = get_echo_data(media_sql)\n",
    "media_types"
   ]
  },
  {
   "cell_type": "code",
   "execution_count": null,
   "id": "59aaa30c-c285-41d7-af34-5c7230d6f68d",
   "metadata": {},
   "outputs": [],
   "source": [
    "# Get Exxon facilities \n",
    "rsql = 'select * from \"facility_data_rsei_v2312\" where \"StandardizedParentCompany\" like \\'%EXXON%\\';' \n",
    "facs = get_echo_data(rsql) \n",
    "# Get their submissions \n",
    "these_fac_numbers = list(facs[\"FacilityNumber\"].unique()) \n",
    "rsql = 'select * from \"submissions_data_rsei_v2312\" where \"FacilityNumber\" in ({});'.format(','.join([str(fac) for fac in these_fac_numbers])) \n",
    "# You shouldn't do SQL like this but I'm being quick \n",
    "subs = get_echo_data(rsql) \n",
    "\n",
    "# Use these submission numbers to get releases \n",
    "# Ok, actually there are too many submissions (>20,000) to easily get all the Exxon releases from the database. \n",
    "# An enterprising SQL writer could do this with some joins, I bet! No time right now for me though \n",
    "# But this is the general idea.... \n",
    "these_submission_numbers = list(subs[\"SubmissionNumber\"].unique())[0:50] \n",
    "# Just do the first 50 as a test \n",
    "rsql = 'select * from \"releases_data_rsei_v2312\" where \"SubmissionNumber\" in ({});'.format(','.join([str(fac) for fac in these_submission_numbers])) \n",
    "res = get_echo_data(rsql) \n",
    "res"
   ]
  }
 ],
 "metadata": {
  "kernelspec": {
   "display_name": "venv",
   "language": "python",
   "name": "python3"
  },
  "language_info": {
   "codemirror_mode": {
    "name": "ipython",
    "version": 3
   },
   "file_extension": ".py",
   "mimetype": "text/x-python",
   "name": "python",
   "nbconvert_exporter": "python",
   "pygments_lexer": "ipython3",
   "version": "3.12.7"
  },
  "widgets": {
   "application/vnd.jupyter.widget-state+json": {
    "state": {
     "2202195048d64d1cb5872201eecc382b": {
      "model_module": "jupyter-leaflet",
      "model_module_version": "^0.19",
      "model_name": "LeafletDrawControlModel",
      "state": {
       "_model_module_version": "^0.19",
       "_view_module_version": "^0.19",
       "circlemarker": {
        "shapeOptions": {}
       },
       "data": [
        {
         "geometry": {
          "coordinates": [
           [
            [
             -105.005264,
             39.729264
            ],
            [
             -105.005264,
             39.890667
            ],
            [
             -104.782791,
             39.890667
            ],
            [
             -104.782791,
             39.729264
            ],
            [
             -105.005264,
             39.729264
            ]
           ]
          ],
          "type": "Polygon"
         },
         "properties": {
          "style": {
           "clickable": true,
           "color": "#fca45d",
           "fill": true,
           "fillColor": "#fca45d",
           "fillOpacity": 0.25,
           "opacity": 0.5,
           "stroke": true,
           "weight": 4
          }
         },
         "type": "Feature"
        }
       ],
       "options": [
        "position"
       ],
       "polygon": {
        "shapeOptions": {
         "clickable": true,
         "color": "#3388ff",
         "fill": true,
         "fillColor": null,
         "fillOpacity": 0.2,
         "opacity": 0.5,
         "stroke": true,
         "weight": 4
        }
       },
       "polyline": {
        "shapeOptions": {
         "clickable": true,
         "color": "#3388ff",
         "fill": false,
         "opacity": 0.5,
         "stroke": true,
         "weight": 4
        }
       },
       "rectangle": {
        "shapeOptions": {
         "clickable": true,
         "color": "#fca45d",
         "fill": true,
         "fillColor": "#fca45d",
         "fillOpacity": 0.25,
         "opacity": 0.5,
         "stroke": true,
         "weight": 4
        }
       }
      }
     },
     "3b4e71f022c947569b614e37d7503b61": {
      "model_module": "@jupyter-widgets/base",
      "model_module_version": "2.0.0",
      "model_name": "LayoutModel",
      "state": {}
     },
     "4a0bcb4ac04c40d4810e8e23458f73bb": {
      "model_module": "jupyter-leaflet",
      "model_module_version": "^0.19",
      "model_name": "LeafletMapStyleModel",
      "state": {
       "_model_module_version": "^0.19"
      }
     },
     "5ecde734cad44485ac3cba68fbf4102b": {
      "model_module": "@jupyter-widgets/controls",
      "model_module_version": "2.0.0",
      "model_name": "DescriptionStyleModel",
      "state": {
       "description_width": "initial"
      }
     },
     "68c50f942e564cb59ae371ca5f03a910": {
      "model_module": "@jupyter-widgets/controls",
      "model_module_version": "2.0.0",
      "model_name": "DropdownModel",
      "state": {
       "_options_labels": [
        "AK",
        "AL",
        "AR",
        "AZ",
        "CA",
        "CO",
        "CT",
        "DC",
        "DE",
        "FL",
        "GA",
        "HI",
        "IA",
        "ID",
        "IL",
        "IN",
        "KS",
        "KY",
        "LA",
        "MA",
        "MD",
        "ME",
        "MI",
        "MN",
        "MO",
        "MS",
        "MT",
        "NC",
        "ND",
        "NE",
        "NH",
        "NJ",
        "NM",
        "NV",
        "NY",
        "OH",
        "OK",
        "OR",
        "PA",
        "RI",
        "SC",
        "SD",
        "TN",
        "TX",
        "UT",
        "VA",
        "VT",
        "WA",
        "WI",
        "WV",
        "WY"
       ],
       "description": "State:",
       "index": 5,
       "layout": "IPY_MODEL_3b4e71f022c947569b614e37d7503b61",
       "style": "IPY_MODEL_6a4fdf6a62484afb86accfb1eae98f52"
      }
     },
     "6a4fdf6a62484afb86accfb1eae98f52": {
      "model_module": "@jupyter-widgets/controls",
      "model_module_version": "2.0.0",
      "model_name": "DescriptionStyleModel",
      "state": {
       "description_width": ""
      }
     },
     "72a7ccef07ab4289b95708d1f11cea46": {
      "model_module": "jupyter-leaflet",
      "model_module_version": "^0.19",
      "model_name": "LeafletMapModel",
      "state": {
       "_model_module_version": "^0.19",
       "_view_module_version": "^0.19",
       "bottom": 99390,
       "center": [
        39.84439484396462,
        -104.82467651367189
       ],
       "controls": [
        "IPY_MODEL_7cbf24dd1f054d0ba6f06cb55f40b5d7",
        "IPY_MODEL_fab0419835854b189fe1f698ec033632",
        "IPY_MODEL_2202195048d64d1cb5872201eecc382b"
       ],
       "default_style": "IPY_MODEL_4a0bcb4ac04c40d4810e8e23458f73bb",
       "dragging_style": "IPY_MODEL_efaac1a2065f43d88698c424af80cfb1",
       "east": -104.82467651367189,
       "fullscreen": false,
       "interpolation": "bilinear",
       "layers": [
        "IPY_MODEL_d090e2770a7d4bccbd8edfa30f67ba29"
       ],
       "layout": "IPY_MODEL_97781ce9739f4407bc0d8b401b86cb3e",
       "left": 54741,
       "min_zoom": 2,
       "modisdate": "2025-03-30",
       "north": 39.84439484396462,
       "options": [
        "bounce_at_zoom_limits",
        "box_zoom",
        "center",
        "close_popup_on_click",
        "double_click_zoom",
        "dragging",
        "fullscreen",
        "inertia",
        "inertia_deceleration",
        "inertia_max_speed",
        "interpolation",
        "keyboard",
        "keyboard_pan_offset",
        "keyboard_zoom_offset",
        "max_zoom",
        "min_zoom",
        "prefer_canvas",
        "scroll_wheel_zoom",
        "tap",
        "tap_tolerance",
        "touch_zoom",
        "world_copy_jump",
        "zoom",
        "zoom_animation_threshold",
        "zoom_delta",
        "zoom_snap"
       ],
       "prefer_canvas": false,
       "right": 54741,
       "scroll_wheel_zoom": true,
       "south": 39.84439484396462,
       "style": "IPY_MODEL_4a0bcb4ac04c40d4810e8e23458f73bb",
       "top": 99390,
       "west": -104.82467651367189,
       "window_url": "http://localhost:8888/notebooks/RSEI/RSEI.ipynb",
       "zoom": 10
      }
     },
     "7cbf24dd1f054d0ba6f06cb55f40b5d7": {
      "model_module": "jupyter-leaflet",
      "model_module_version": "^0.19",
      "model_name": "LeafletZoomControlModel",
      "state": {
       "_model_module_version": "^0.19",
       "_view_module_version": "^0.19",
       "options": [
        "position",
        "zoom_in_text",
        "zoom_in_title",
        "zoom_out_text",
        "zoom_out_title"
       ]
      }
     },
     "97781ce9739f4407bc0d8b401b86cb3e": {
      "model_module": "@jupyter-widgets/base",
      "model_module_version": "2.0.0",
      "model_name": "LayoutModel",
      "state": {}
     },
     "9857a18fbc684800956519afad4a803e": {
      "model_module": "jupyter-leaflet",
      "model_module_version": "^0.19",
      "model_name": "LeafletMapStyleModel",
      "state": {
       "_model_module_version": "^0.19"
      }
     },
     "cba7c7d500284f01a6bd4f3c30a96296": {
      "model_module": "@jupyter-widgets/controls",
      "model_module_version": "2.0.0",
      "model_name": "DropdownModel",
      "state": {
       "_options_labels": [
        "State",
        "Congressional District",
        "County",
        "Zip Code",
        "Watershed",
        "Census Tract",
        "Neighborhood"
       ],
       "description": "Region of interest:",
       "index": 6,
       "layout": "IPY_MODEL_f840a166e81f4b8abf9ee158a50d3b78",
       "style": "IPY_MODEL_5ecde734cad44485ac3cba68fbf4102b"
      }
     },
     "d090e2770a7d4bccbd8edfa30f67ba29": {
      "model_module": "jupyter-leaflet",
      "model_module_version": "^0.19",
      "model_name": "LeafletTileLayerModel",
      "state": {
       "_model_module_version": "^0.19",
       "_view_module_version": "^0.19",
       "attribution": "Tiles &copy; Esri &mdash; National Geographic, Esri, DeLorme, NAVTEQ, UNEP-WCMC, USGS, NASA, ESA, METI, NRCAN, GEBCO, NOAA, iPC",
       "max_zoom": 16,
       "min_zoom": 1,
       "name": "Esri.NatGeoWorldMap",
       "options": [
        "attribution",
        "bounds",
        "detect_retina",
        "max_native_zoom",
        "max_zoom",
        "min_native_zoom",
        "min_zoom",
        "no_wrap",
        "tile_size",
        "tms",
        "zoom_offset"
       ],
       "url": "https://server.arcgisonline.com/ArcGIS/rest/services/NatGeo_World_Map/MapServer/tile/{z}/{y}/{x}"
      }
     },
     "efaac1a2065f43d88698c424af80cfb1": {
      "model_module": "jupyter-leaflet",
      "model_module_version": "^0.19",
      "model_name": "LeafletMapStyleModel",
      "state": {
       "_model_module_version": "^0.19",
       "cursor": "move"
      }
     },
     "f840a166e81f4b8abf9ee158a50d3b78": {
      "model_module": "@jupyter-widgets/base",
      "model_module_version": "2.0.0",
      "model_name": "LayoutModel",
      "state": {}
     },
     "fab0419835854b189fe1f698ec033632": {
      "model_module": "jupyter-leaflet",
      "model_module_version": "^0.19",
      "model_name": "LeafletAttributionControlModel",
      "state": {
       "_model_module_version": "^0.19",
       "_view_module_version": "^0.19",
       "options": [
        "position",
        "prefix"
       ],
       "position": "bottomright",
       "prefix": "ipyleaflet"
      }
     }
    },
    "version_major": 2,
    "version_minor": 0
   }
  }
 },
 "nbformat": 4,
 "nbformat_minor": 5
}
