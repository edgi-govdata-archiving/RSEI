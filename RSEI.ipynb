{
 "cells": [
  {
   "cell_type": "markdown",
   "id": "0d9eae6e",
   "metadata": {},
   "source": [
    "| ![EEW logo](https://github.com/edgi-govdata-archiving/EEW-Image-Assets/blob/master/Jupyter%20instructions/eew.jpg?raw=true) | ![EDGI logo](https://github.com/edgi-govdata-archiving/EEW-Image-Assets/blob/master/Jupyter%20instructions/edgi.png?raw=true) |\n",
    "|---|---|\n",
    "\n",
    "This notebook is licensed under GPL 3.0. Please visit our [Github repo](https://github.com/edgi-govdata-archiving/ECHO-Cross-Program) for more information.\n",
    "\n",
    "The notebook was collaboratively authored by EDGI following our [authorship protocol](https://docs.google.com/document/d/1CtDN5ZZ4Zv70fHiBTmWkDJ9mswEipX6eCYrwicP66Xw/).\n",
    "\n",
    "For more information about this project, visit https://www.environmentalenforcementwatch.org/"
   ]
  },
  {
   "cell_type": "markdown",
   "id": "608b5612",
   "metadata": {},
   "source": [
    "Note:  This notebook pulls data from a copy of EPA's ECHO database hosted by Stony Brook University. The data sets are updated on a weekly basis, meaning that some of the results from your run may not exactly match those in [EEW's Congressional Report Cards](https://www.environmentalenforcementwatch.org/reports). For instance, the Report Cards show ten facilities that have spent at least three of the past 12 quarters in non-compliance with different environmental protection laws. These results will therefore change as we enter new parts of the year. In addition, the Report Cards estimate the number of facilities that were active in 2019, since EPA does not provide such figures. Our estimate is based on the number of facilities EPA records as active at the *current* moment in time. In short, we use active right now as a proxy for active in 2019. This number informs several metrics in the Report Cards - including violations and inspections per 1000 facilities - and these will change as the number of facilities reported as active right now by the EPA changes. Please see the [CD-Report repo](https://github.com/edgi-govdata-archiving/CD-report) for facility counts and non-compliance rates as we recorded them in mid-September 2020 in order to produce the Report Cards."
   ]
  },
  {
   "cell_type": "markdown",
   "id": "5d3ac562",
   "metadata": {},
   "source": [
    "# Examining Data from the EPA's Risk Screening Environmental Indicators (RSEI) \n",
    "\n",
    "This notebook examines data from the Risk Screening Environmental Indicators (RSEI) database (https://epa.gov/rsei). \n",
    "\n",
    "As data is retrieved from each RSEI data set, a subset of the available fields are selected. Those are in the ***column*** variable in the code blocks. \n",
    "\n",
    "Additional columns can be added by modifying the list in the ***column*** variable.\n",
    "\n",
    "The fields available and their meaning can be found in the data dictionary at this link: (https://www.epa.gov/rsei/rsei-data-dictionary-site-data)."
   ]
  },
  {
   "cell_type": "code",
   "execution_count": null,
   "id": "87474ec8-8718-44ad-b3dd-a55cbfb7f599",
   "metadata": {},
   "outputs": [],
   "source": [
    "# Install our codebase \n",
    "# !pip install ECHO_modules >&/dev/null;\n",
    "%pip install git+https://github.com/edgi-govdata-archiving/ECHO_modules@neighborhoods >&/dev/null;\n",
    "%pip install geopandas >&/dev/null;"
   ]
  },
  {
   "cell_type": "markdown",
   "id": "92f3d43d",
   "metadata": {},
   "source": [
    "### Select the type of region and then the state\n",
    "A state selection is not necessary for Zip Code and Neighborhood region types.\n",
    "\n",
    "An additional choice lets you supply a list of FRSIDs and use those facilities in the analysis."
   ]
  },
  {
   "cell_type": "code",
   "execution_count": 1,
   "id": "e4946e4c-72c8-4d4f-934b-419f27dd9dee",
   "metadata": {},
   "outputs": [
    {
     "data": {
      "application/vnd.jupyter.widget-view+json": {
       "model_id": "91f60eb3a5494e7f8b6989d5989eb4fd",
       "version_major": 2,
       "version_minor": 0
      },
      "text/plain": [
       "Dropdown(description='Region of interest:', options=('City', 'County', 'State', 'Zip Code', 'Neighborhood', 'F…"
      ]
     },
     "metadata": {},
     "output_type": "display_data"
    },
    {
     "name": "stdout",
     "output_type": "stream",
     "text": [
      "(The State will be ignored for Zip Code and Neighborhood regions.)\n"
     ]
    },
    {
     "data": {
      "application/vnd.jupyter.widget-view+json": {
       "model_id": "6859080075024961b20e241f185b6706",
       "version_major": 2,
       "version_minor": 0
      },
      "text/plain": [
       "Dropdown(description='State:', options=('AK', 'AL', 'AR', 'AZ', 'CA', 'CO', 'CT', 'DC', 'DE', 'FL', 'GA', 'HI'…"
      ]
     },
     "metadata": {},
     "output_type": "display_data"
    }
   ],
   "source": [
    "from ECHO_modules.get_data import get_echo_data\n",
    "from ECHO_modules.utilities import show_region_type_widget, \\\n",
    "    show_state_widget, show_year_range_widget\n",
    "from ECHO_modules.rsei_utilities import show_rsei_pick_region_widget\n",
    "\n",
    "region_type_widget = show_region_type_widget(region_types=('City', 'County', 'State', 'Zip Code', 'Neighborhood',\n",
    "                                                           'FRSID List'), \n",
    "                                             default_value='City')\n",
    "state_widget = None\n",
    "# display( region_type_widget )\n",
    "print('(The State will be ignored for Zip Code and Neighborhood regions.)')\n",
    "state_widget = show_state_widget()"
   ]
  },
  {
   "cell_type": "markdown",
   "id": "946996c9-33d3-42d3-bc51-bd36a1028c93",
   "metadata": {},
   "source": [
    "## Select the regions to look for\n",
    "For Neighborhoods, only rectangles are currently supported.\n",
    "\n",
    "City, county and state names will be automatically converted to upper case. Don't worry about the case as you type in your selections.\n",
    "\n",
    "Multiple selections can be made with a comma-separated list.\n"
   ]
  },
  {
   "cell_type": "code",
   "execution_count": 2,
   "id": "2e7178f9-fce4-4653-aaff-d857a510e408",
   "metadata": {},
   "outputs": [
    {
     "data": {
      "application/vnd.jupyter.widget-view+json": {
       "model_id": "14c5157cec554d8a8c8b881568a18f5e",
       "version_major": 2,
       "version_minor": 0
      },
      "text/plain": [
       "Text(value='', description='Select file with FRSID column')"
      ]
     },
     "metadata": {},
     "output_type": "display_data"
    }
   ],
   "source": [
    "from ECHO_modules.utilities import polygon_map\n",
    "\n",
    "description = None\n",
    "region_widget = None\n",
    "region_type = region_type_widget.value\n",
    "if region_type == 'Neighborhood':\n",
    "    (map,shapes) = polygon_map()\n",
    "    display(map)\n",
    "elif region_type != 'State':\n",
    "    if region_type == 'FRSID List':\n",
    "        description = 'Select file with FRSID column'\n",
    "    region_widget = show_rsei_pick_region_widget( type=region_type,\n",
    "                                            state_widget=state_widget, \n",
    "                                            description=description )"
   ]
  },
  {
   "cell_type": "code",
   "execution_count": 14,
   "id": "531c28c4",
   "metadata": {},
   "outputs": [],
   "source": [
    "if 'Standard' in regions_selected.columns:\n",
    "    fac_selected = regions_selected[['FRSID', 'Standard']]"
   ]
  },
  {
   "cell_type": "markdown",
   "id": "3b4fac3a",
   "metadata": {},
   "source": [
    "## Get the facilities that are in the chosen regions\n",
    "These are the producers of toxic waste in the chosen region, as reported to the EPA's Toxic Release Inventory (TRI)."
   ]
  },
  {
   "cell_type": "code",
   "execution_count": 25,
   "id": "9a58daa9-1264-40b3-a95b-eda62ba06a1f",
   "metadata": {},
   "outputs": [
    {
     "name": "stdout",
     "output_type": "stream",
     "text": [
      "100) reading facility_data_rsei_v2312\n",
      "200) reading facility_data_rsei_v2312\n",
      "300) reading facility_data_rsei_v2312\n",
      "400) reading facility_data_rsei_v2312\n"
     ]
    },
    {
     "name": "stderr",
     "output_type": "stream",
     "text": [
      "/tmp/ipykernel_122545/1116366902.py:24: SettingWithCopyWarning: \n",
      "A value is trying to be set on a copy of a slice from a DataFrame.\n",
      "Try using .loc[row_indexer,col_indexer] = value instead\n",
      "\n",
      "See the caveats in the documentation: https://pandas.pydata.org/pandas-docs/stable/user_guide/indexing.html#returning-a-view-versus-a-copy\n",
      "  fac_selected['FRSID'] = fac_selected['FRSID'].astype(\"int\")\n"
     ]
    },
    {
     "data": {
      "text/html": [
       "<div>\n",
       "<style scoped>\n",
       "    .dataframe tbody tr th:only-of-type {\n",
       "        vertical-align: middle;\n",
       "    }\n",
       "\n",
       "    .dataframe tbody tr th {\n",
       "        vertical-align: top;\n",
       "    }\n",
       "\n",
       "    .dataframe thead th {\n",
       "        text-align: right;\n",
       "    }\n",
       "</style>\n",
       "<table border=\"1\" class=\"dataframe\">\n",
       "  <thead>\n",
       "    <tr style=\"text-align: right;\">\n",
       "      <th></th>\n",
       "      <th>FacilityName</th>\n",
       "      <th>FacilityID</th>\n",
       "      <th>FacilityNumber</th>\n",
       "      <th>FRSID</th>\n",
       "      <th>Latitude</th>\n",
       "      <th>Longitude</th>\n",
       "      <th>Street</th>\n",
       "      <th>City</th>\n",
       "      <th>County</th>\n",
       "      <th>State</th>\n",
       "      <th>ZIPCode</th>\n",
       "      <th>StandardizedParentCompany</th>\n",
       "      <th>Standard</th>\n",
       "    </tr>\n",
       "  </thead>\n",
       "  <tbody>\n",
       "    <tr>\n",
       "      <th>0</th>\n",
       "      <td>ELITE SPICE INC.</td>\n",
       "      <td>20794LTSPC7151M</td>\n",
       "      <td>226</td>\n",
       "      <td>110000339269</td>\n",
       "      <td>39.174650</td>\n",
       "      <td>-76.776740</td>\n",
       "      <td>7151 MONTEVIDEO RD</td>\n",
       "      <td>JESSUP</td>\n",
       "      <td>HOWARD</td>\n",
       "      <td>MD</td>\n",
       "      <td>20794</td>\n",
       "      <td>ELITE SPICE INC</td>\n",
       "      <td>Sterilizer Rule</td>\n",
       "    </tr>\n",
       "    <tr>\n",
       "      <th>1</th>\n",
       "      <td>WINYAH GENERATING STATION</td>\n",
       "      <td>29440WNYHG661ST</td>\n",
       "      <td>2876</td>\n",
       "      <td>110000353457</td>\n",
       "      <td>33.330842</td>\n",
       "      <td>-79.357839</td>\n",
       "      <td>661 STEAM PLANT DR</td>\n",
       "      <td>GEORGETOWN</td>\n",
       "      <td>GEORGETOWN</td>\n",
       "      <td>SC</td>\n",
       "      <td>29440</td>\n",
       "      <td>SOUTH CAROLINA PUBLIC SERVICE AUTHORITY</td>\n",
       "      <td>MATS</td>\n",
       "    </tr>\n",
       "    <tr>\n",
       "      <th>2</th>\n",
       "      <td>ARVESTA CORP</td>\n",
       "      <td>44081CMRCS3647S</td>\n",
       "      <td>6406</td>\n",
       "      <td>110000386001</td>\n",
       "      <td>41.748776</td>\n",
       "      <td>-81.155151</td>\n",
       "      <td>3647 SHEPARD RD</td>\n",
       "      <td>PERRY</td>\n",
       "      <td>LAKE</td>\n",
       "      <td>OH</td>\n",
       "      <td>44081</td>\n",
       "      <td>NaN</td>\n",
       "      <td>HON Rule</td>\n",
       "    </tr>\n",
       "    <tr>\n",
       "      <th>3</th>\n",
       "      <td>CHEVRON PRODUCTS CO PASCAGOULA REFINERY</td>\n",
       "      <td>39567CHVRNPOBOX</td>\n",
       "      <td>6456</td>\n",
       "      <td>110000377477</td>\n",
       "      <td>30.343733</td>\n",
       "      <td>-88.493800</td>\n",
       "      <td>250 INDUSTRIAL RD</td>\n",
       "      <td>PASCAGOULA</td>\n",
       "      <td>JACKSON</td>\n",
       "      <td>MS</td>\n",
       "      <td>39581</td>\n",
       "      <td>CHEVRON CORP</td>\n",
       "      <td>HON Rule</td>\n",
       "    </tr>\n",
       "    <tr>\n",
       "      <th>4</th>\n",
       "      <td>CLIFTY CREEK STATION</td>\n",
       "      <td>47250CLFTY1335C</td>\n",
       "      <td>10982</td>\n",
       "      <td>110000402314</td>\n",
       "      <td>38.738349</td>\n",
       "      <td>-85.419145</td>\n",
       "      <td>1335 CLIFTY HOLLOW RD</td>\n",
       "      <td>MADISON</td>\n",
       "      <td>JEFFERSON</td>\n",
       "      <td>IN</td>\n",
       "      <td>47250</td>\n",
       "      <td>OHIO VALLEY ELECTRIC CORP</td>\n",
       "      <td>MATS</td>\n",
       "    </tr>\n",
       "    <tr>\n",
       "      <th>...</th>\n",
       "      <td>...</td>\n",
       "      <td>...</td>\n",
       "      <td>...</td>\n",
       "      <td>...</td>\n",
       "      <td>...</td>\n",
       "      <td>...</td>\n",
       "      <td>...</td>\n",
       "      <td>...</td>\n",
       "      <td>...</td>\n",
       "      <td>...</td>\n",
       "      <td>...</td>\n",
       "      <td>...</td>\n",
       "      <td>...</td>\n",
       "    </tr>\n",
       "    <tr>\n",
       "      <th>345</th>\n",
       "      <td>MIDWEST STERILIZATION CORP</td>\n",
       "      <td>78045MDWST121GE</td>\n",
       "      <td>34956</td>\n",
       "      <td>110024942678</td>\n",
       "      <td>27.620278</td>\n",
       "      <td>-99.503056</td>\n",
       "      <td>12010 GENERAL MILTON DR</td>\n",
       "      <td>LAREDO</td>\n",
       "      <td>WEBB</td>\n",
       "      <td>TX</td>\n",
       "      <td>78045</td>\n",
       "      <td>MIDWEST STERILIZATION CORP</td>\n",
       "      <td>Sterilizer Rule</td>\n",
       "    </tr>\n",
       "    <tr>\n",
       "      <th>346</th>\n",
       "      <td>STERIS ISOMEDIX SERVICES</td>\n",
       "      <td>75050CSMDF1175I</td>\n",
       "      <td>38272</td>\n",
       "      <td>110002131014</td>\n",
       "      <td>32.799940</td>\n",
       "      <td>-97.047086</td>\n",
       "      <td>1175 ISUZU PKWY</td>\n",
       "      <td>GRAND PRAIRIE</td>\n",
       "      <td>TARRANT</td>\n",
       "      <td>TX</td>\n",
       "      <td>75050</td>\n",
       "      <td>STERIS CORP</td>\n",
       "      <td>Sterilizer Rule</td>\n",
       "    </tr>\n",
       "    <tr>\n",
       "      <th>347</th>\n",
       "      <td>BAKELITE CHEMICALS LLC</td>\n",
       "      <td>75901GRGPC1429E</td>\n",
       "      <td>49676</td>\n",
       "      <td>110017769789</td>\n",
       "      <td>31.336660</td>\n",
       "      <td>-94.712030</td>\n",
       "      <td>1429 E LUFKIN AVE</td>\n",
       "      <td>LUFKIN</td>\n",
       "      <td>ANGELINA</td>\n",
       "      <td>TX</td>\n",
       "      <td>75901</td>\n",
       "      <td>BAKELITE LLC</td>\n",
       "      <td>HON Rule</td>\n",
       "    </tr>\n",
       "    <tr>\n",
       "      <th>348</th>\n",
       "      <td>DAK AMERICAS LLC-COLUMBIA SITE</td>\n",
       "      <td>2905WDKMRC57KAV</td>\n",
       "      <td>57924</td>\n",
       "      <td>110043305688</td>\n",
       "      <td>33.866387</td>\n",
       "      <td>-81.012712</td>\n",
       "      <td>570 K AVE</td>\n",
       "      <td>GASTON</td>\n",
       "      <td>CALHOUN</td>\n",
       "      <td>SC</td>\n",
       "      <td>29053</td>\n",
       "      <td>DAK AMERICAS LLC</td>\n",
       "      <td>HON Rule</td>\n",
       "    </tr>\n",
       "    <tr>\n",
       "      <th>349</th>\n",
       "      <td>OXY VINYLS LP DEER PARK CAUSTIC</td>\n",
       "      <td>77536CCDNT1000T</td>\n",
       "      <td>63299</td>\n",
       "      <td>110043782788</td>\n",
       "      <td>29.726130</td>\n",
       "      <td>-95.108020</td>\n",
       "      <td>1000 TIDAL RD</td>\n",
       "      <td>DEER PARK</td>\n",
       "      <td>HARRIS</td>\n",
       "      <td>TX</td>\n",
       "      <td>77536</td>\n",
       "      <td>OCCIDENTAL PETROLEUM CORP</td>\n",
       "      <td>HON Rule</td>\n",
       "    </tr>\n",
       "  </tbody>\n",
       "</table>\n",
       "<p>350 rows × 13 columns</p>\n",
       "</div>"
      ],
      "text/plain": [
       "                                FacilityName       FacilityID  FacilityNumber  \\\n",
       "0                           ELITE SPICE INC.  20794LTSPC7151M             226   \n",
       "1                  WINYAH GENERATING STATION  29440WNYHG661ST            2876   \n",
       "2                               ARVESTA CORP  44081CMRCS3647S            6406   \n",
       "3    CHEVRON PRODUCTS CO PASCAGOULA REFINERY  39567CHVRNPOBOX            6456   \n",
       "4                       CLIFTY CREEK STATION  47250CLFTY1335C           10982   \n",
       "..                                       ...              ...             ...   \n",
       "345               MIDWEST STERILIZATION CORP  78045MDWST121GE           34956   \n",
       "346                 STERIS ISOMEDIX SERVICES  75050CSMDF1175I           38272   \n",
       "347                   BAKELITE CHEMICALS LLC  75901GRGPC1429E           49676   \n",
       "348           DAK AMERICAS LLC-COLUMBIA SITE  2905WDKMRC57KAV           57924   \n",
       "349          OXY VINYLS LP DEER PARK CAUSTIC  77536CCDNT1000T           63299   \n",
       "\n",
       "            FRSID   Latitude  Longitude                   Street  \\\n",
       "0    110000339269  39.174650 -76.776740       7151 MONTEVIDEO RD   \n",
       "1    110000353457  33.330842 -79.357839       661 STEAM PLANT DR   \n",
       "2    110000386001  41.748776 -81.155151          3647 SHEPARD RD   \n",
       "3    110000377477  30.343733 -88.493800        250 INDUSTRIAL RD   \n",
       "4    110000402314  38.738349 -85.419145    1335 CLIFTY HOLLOW RD   \n",
       "..            ...        ...        ...                      ...   \n",
       "345  110024942678  27.620278 -99.503056  12010 GENERAL MILTON DR   \n",
       "346  110002131014  32.799940 -97.047086          1175 ISUZU PKWY   \n",
       "347  110017769789  31.336660 -94.712030        1429 E LUFKIN AVE   \n",
       "348  110043305688  33.866387 -81.012712                570 K AVE   \n",
       "349  110043782788  29.726130 -95.108020            1000 TIDAL RD   \n",
       "\n",
       "              City      County State  ZIPCode  \\\n",
       "0           JESSUP      HOWARD    MD    20794   \n",
       "1       GEORGETOWN  GEORGETOWN    SC    29440   \n",
       "2            PERRY        LAKE    OH    44081   \n",
       "3       PASCAGOULA     JACKSON    MS    39581   \n",
       "4          MADISON   JEFFERSON    IN    47250   \n",
       "..             ...         ...   ...      ...   \n",
       "345         LAREDO        WEBB    TX    78045   \n",
       "346  GRAND PRAIRIE     TARRANT    TX    75050   \n",
       "347         LUFKIN    ANGELINA    TX    75901   \n",
       "348         GASTON     CALHOUN    SC    29053   \n",
       "349      DEER PARK      HARRIS    TX    77536   \n",
       "\n",
       "                   StandardizedParentCompany         Standard  \n",
       "0                            ELITE SPICE INC  Sterilizer Rule  \n",
       "1    SOUTH CAROLINA PUBLIC SERVICE AUTHORITY             MATS  \n",
       "2                                        NaN         HON Rule  \n",
       "3                               CHEVRON CORP         HON Rule  \n",
       "4                  OHIO VALLEY ELECTRIC CORP             MATS  \n",
       "..                                       ...              ...  \n",
       "345               MIDWEST STERILIZATION CORP  Sterilizer Rule  \n",
       "346                              STERIS CORP  Sterilizer Rule  \n",
       "347                             BAKELITE LLC         HON Rule  \n",
       "348                         DAK AMERICAS LLC         HON Rule  \n",
       "349                OCCIDENTAL PETROLEUM CORP         HON Rule  \n",
       "\n",
       "[350 rows x 13 columns]"
      ]
     },
     "execution_count": 25,
     "metadata": {},
     "output_type": "execute_result"
    }
   ],
   "source": [
    "import pandas as pd \n",
    "from ECHO_modules.rsei_utilities import get_rsei_facilities, get_this_by_that\n",
    "from ECHO_modules.utilities import get_frsid_list\n",
    "\n",
    "state = state_widget.value if state_widget is not None else None\n",
    "regions_selected = None\n",
    "if region_type == 'Zip Code':\n",
    "    regions_selected = str(region_widget.value)\n",
    "elif region_type == 'Neighborhood':\n",
    "    regions_selected = shapes.pop()\n",
    "elif region_type == 'FRSID List':\n",
    "    regions_selected = get_frsid_list(region_widget.value)\n",
    "elif region_type != 'State':\n",
    "    regions_selected = region_widget.value\n",
    "    \n",
    "columns = '\"FacilityName\", \"FacilityID\", \"FacilityNumber\", \"FRSID\", \"Latitude\", \"Longitude\", \"Street\",'\n",
    "columns += '\"City\", \"County\", \"State\", \"ZIPCode\", \"StandardizedParentCompany\"'\n",
    "\n",
    "if region_type == 'FRSID List':\n",
    "    fac_df = get_this_by_that(this_name='facility', that_series=regions_selected['FRSID'], this_key='FRSID',\n",
    "                              this_columns=columns)\n",
    "    if 'Standard' in regions_selected.columns:\n",
    "        fac_selected = regions_selected[['FRSID', 'Standard']]\n",
    "        fac_selected['FRSID'] = fac_selected['FRSID'].astype(\"int\")\n",
    "        fac_df = pd.merge(fac_df, fac_selected, on='FRSID')\n",
    "else:\n",
    "    fac_df = get_rsei_facilities(state=state, region_type=region_type, regions_selected=regions_selected, \n",
    "                                 rsei_type='facility', columns=columns)\n",
    "# If the columns aren't specified, all columns are returned (\"select * from ...\")\n",
    "# fac_df = get_rsei_facilities(state=state, region_type=region_type, regions_selected=regions_selected, \n",
    "#                              rsei_type='facility')\n",
    "fac_df"
   ]
  },
  {
   "cell_type": "markdown",
   "id": "aa29f55a",
   "metadata": {},
   "source": [
    "#### See a map of these producing facilities in the regions selected\n",
    "\n",
    "You can use the rectangle selection in this next map to home in on a subset of facilities on this map.\n",
    "If you don't select a rectangle all facilities will be included.\n",
    "\n",
    "Skip this if you want to use all of the facilities already selected."
   ]
  },
  {
   "cell_type": "code",
   "execution_count": null,
   "id": "1822ad54",
   "metadata": {},
   "outputs": [],
   "source": [
    "from ECHO_modules.utilities import ipymapper\n",
    "\n",
    "(map, shapes) = ipymapper(fac_df, no_text=False, lat_field='Latitude', long_field='Longitude',\n",
    "                name_field='FacilityName', info_field='LatLongSource')\n",
    "display(map)"
   ]
  },
  {
   "cell_type": "markdown",
   "id": "39351182",
   "metadata": {},
   "source": [
    "#### Choose the years for the submissions you want to see"
   ]
  },
  {
   "cell_type": "code",
   "execution_count": 26,
   "id": "101c0265",
   "metadata": {},
   "outputs": [
    {
     "data": {
      "application/vnd.jupyter.widget-view+json": {
       "model_id": "a64c57ea383f4b68801556a77f072b6c",
       "version_major": 2,
       "version_minor": 0
      },
      "text/plain": [
       "SelectionRangeSlider(description='Dates', index=(0, 54), layout=Layout(width='500px'), options=(1970, 1971, 19…"
      ]
     },
     "metadata": {},
     "output_type": "display_data"
    }
   ],
   "source": [
    "from ECHO_modules.utilities import show_year_range_widget\n",
    "year_range = show_year_range_widget()"
   ]
  },
  {
   "cell_type": "markdown",
   "id": "35ff093a",
   "metadata": {},
   "source": [
    "### If there are too many of these producing facilities, the number of submissions and releases can get very large. \n",
    "It may take a very long time to identify them all, and it may not work at all. \n",
    "\n",
    "If you try it and get stuck, we suggest you run it again and use either a rectangular region selection in the previous map or this next widget to\n",
    "reduce the number of facilities. Being more specific with the date range will also work to reduce the number of submissions retrieved.\n",
    "\n",
    "You can add to your selection with Ctrl+click, and extend the selection with Shift+click.\n",
    "\n",
    "Skip these next two cells if you want to use all the facilities that have been chosen."
   ]
  },
  {
   "cell_type": "code",
   "execution_count": null,
   "id": "e810d0c5",
   "metadata": {},
   "outputs": [],
   "source": [
    "from ECHO_modules.rsei_utilities import get_facs_in_rect\n",
    "from ECHO_modules.utilities import show_fac_widget\n",
    "\n",
    "try:\n",
    "    if len(shapes) > 0:\n",
    "        fac_df = get_facs_in_rect(fac_df, 'Latitude', 'Longitude', shapes)\n",
    "    fac_widget = show_fac_widget(fac_df['FacilityName'])\n",
    "except NameError:\n",
    "    print('Will use all facilities.')"
   ]
  },
  {
   "cell_type": "markdown",
   "id": "39c2974f",
   "metadata": {},
   "source": [
    "We'll work in several steps to follow the chain from facilities to their submissions (with the associated chemical),\n",
    "then from the submission to releases (using SubmissionNumber),\n",
    "then from releases to elements (using ReleaseNumber),\n",
    "and from releases to offsite facilities (using releases.OffsiteNumber with offsite.FacilityNumber).\n",
    "We can then try to connect the offsite facility (offsite.TRIFID) with facility (FacilityID)"
   ]
  },
  {
   "cell_type": "markdown",
   "id": "80d235f8",
   "metadata": {},
   "source": [
    "### Get the submissions and chemicals made by these facilities"
   ]
  },
  {
   "cell_type": "code",
   "execution_count": 28,
   "id": "8ad194f2",
   "metadata": {},
   "outputs": [
    {
     "name": "stdout",
     "output_type": "stream",
     "text": [
      "100) reading submissions_data_rsei_v2312\n",
      "200) reading submissions_data_rsei_v2312\n",
      "300) reading submissions_data_rsei_v2312\n",
      "select \"ChemicalNumber\", \"Chemical\", \"RfCInhale\" from \"chemical_data_rsei_v2312\" where \"ChemicalNumber\" in (293, 493, 292, 331, 283, 549, 157, 347, 356, 632, 29, 153, 172, 502, 406, 595, 609, 521, 614, 360, 333, 45, 402, 610, 318, 273, 5, 124, 171, 225, 364, 379, 381, 599, 409, 82, 572, 592, 575, 193, 80, 261, 51, 60, 114, 116, 155, 163, 169, 238, 290, 291, 332, 627, 619, 591, 393, 589, 590, 454, 491, 531, 36, 191, 453, 519, 346, 359, 40, 154, 582, 130, 138, 126, 127, 208, 212, 565, 567, 222, 38, 58, 505, 536, 343, 315, 162, 376, 84, 629, 160, 161, 32, 275, 399, 370, 12, 334, 398, 115, 140, 252, 253, 316, 397, 514, 19, 11, 548, 224, 158, 410, 165, 75, 550, 214, 584, 460, 3, 6, 166, 456, 463, 467, 474, 613, 624, 608, 371, 201, 16, 17, 41, 55, 495, 85, 594, 83, 236, 135, 286, 891, 892, 269, 418, 195, 375, 441, 329, 352, 530, 223, 216, 215, 63, 447, 267, 419, 118, 489, 132, 459, 70, 141, 386, 139, 9, 188, 368, 553, 87, 405, 341, 529, 566, 175, 15, 152, 156, 323, 348, 369, 414, 446, 546, 573, 586, 125, 121, 385, 10, 285, 461, 217, 321, 612, 555, 56, 298, 145, 587, 20, 320, 148, 319, 339, 494, 294, 507, 580, 545, 581, 497, 588, 407, 503, 88, 557, 106, 568, 552, 112, 569, 143, 420, 46, 349, 325, 28, 311, 570, 229, 108, 351, 48, 39, 182, 442, 448, 14, 52, 183, 421, 452, 480, 485, 189, 42, 713, 793, 790, 792, 871, 753, 823, 776, 231, 336, 37, 428, 54, 846, 829, 508, 380, 297, 111, 775, 774, 825, 819, 551, 543, 533, 518, 473, 357, 251, 59, 240, 387, 338, 44, 355, 25, 26, 603, 504, 4, 67, 496, 33, 213, 107, 611, 630, 350, 268, 469, 466, 164, 104, 317, 105, 271, 109, 221, 535, 134, 61, 564, 74, 232, 322, 618, 57, 604, 205, 149, 128, 358, 249, 276, 187, 228, 280, 270, 146, 263, 79, 173, 243, 295, 366, 423, 430, 433, 7, 218, 246, 257, 255, 2, 21, 49, 53, 64, 93, 43, 113, 136, 142, 196, 227, 237, 245, 260, 296, 307, 353, 362, 372, 374, 377, 422, 437, 404, 554, 601, 513, 403, 264, 483, 500, 510, 538, 544, 605, 571, 547, 468, 411, 230, 556, 541, 818, 763, 803, 848, 762, 752, 470, 714, 597, 68, 281, 845, 884, 832, 450, 631)\n",
      "29100 submissions found for these facilities\n"
     ]
    }
   ],
   "source": [
    "from ECHO_modules.rsei_utilities import get_this_by_that, add_chemical_to_submissions\n",
    "\n",
    "# Get the submissions \n",
    "columns = '\"SubmissionNumber\", \"FacilityNumber\", \"ChemicalNumber\", \"SubmissionYear\", \"OneTimeReleaseQty\", \"TradeSecretInd\"'\n",
    "\n",
    "sub_df = get_this_by_that(this_name='submissions', that_series=fac_df['FacilityNumber'], this_key='FacilityNumber',\n",
    "                          this_columns=columns, years=year_range.value, year_field='SubmissionYear')\n",
    "\n",
    "# Get the chemical names and add them to the submissions\n",
    "columns = '\"ChemicalNumber\", \"Chemical\", \"RfCInhale\"'\n",
    "# columns = '\"Chemical\", \"RfCInhale\", \"RfDOral\"'\n",
    "# columns = '*'\n",
    "sub_df = add_chemical_to_submissions(submissions=sub_df, chemical_columns=columns)\n",
    "# columns = [\"SubmissionNumber\", \"ChemicalNumber\", \"Chemical\", \"RfCInhale\"]\n",
    "# sub_df[columns]\n",
    "print(f'{len(sub_df)} submissions found for these facilities')\n",
    "\n",
    "chem_widget = None\n",
    "chem_numbers_widget = None\n"
   ]
  },
  {
   "cell_type": "markdown",
   "id": "d173de9a",
   "metadata": {},
   "source": [
    "#### Select the chemicals of interest\n",
    "If you want to see the results for all the chemicals you can skip this cell."
   ]
  },
  {
   "cell_type": "code",
   "execution_count": null,
   "id": "cd8c185c",
   "metadata": {},
   "outputs": [],
   "source": [
    "from ECHO_modules.rsei_utilities import show_select_multiple_widget\n",
    "\n",
    "chem_widget = show_select_multiple_widget(sub_df['Chemical'], 'Select Chemicals')\n",
    "chem_widget.layout.height = '200px'\n",
    "display(chem_widget)"
   ]
  },
  {
   "cell_type": "markdown",
   "id": "e8e0800c",
   "metadata": {},
   "source": [
    "...or enter a list of the chemical numbers if you know them."
   ]
  },
  {
   "cell_type": "code",
   "execution_count": null,
   "id": "1fda8020",
   "metadata": {},
   "outputs": [],
   "source": [
    "from ECHO_modules.utilities import make_widget\n",
    "\n",
    "widget_parms = {'type' : 'text', 'default' : '', 'description' : 'Enter list of chemical numbers'}\n",
    "chem_numbers_widget = make_widget(widget_parms)\n",
    "display(chem_numbers_widget)"
   ]
  },
  {
   "cell_type": "markdown",
   "id": "9d37e49c",
   "metadata": {},
   "source": [
    "#### This cell can be skipped if you didn't select any chemicals from the dropdown list or enter chemical numbers.\n",
    "If skipped, we will proceed with the full list of chemicals."
   ]
  },
  {
   "cell_type": "code",
   "execution_count": null,
   "id": "d2f17cb3",
   "metadata": {},
   "outputs": [],
   "source": [
    "if chem_widget is not None and len(chem_widget.value) > 0:\n",
    "    sub_df = sub_df[sub_df['Chemical'].isin(chem_widget.value)]\n",
    "    print(f'Chemicals selected: {chem_widget.value}')\n",
    "elif chem_numbers_widget is not None and len(chem_numbers_widget.value) > 0:\n",
    "    chem_numbers = [int(item) for item in chem_numbers_widget.value.split(\",\")]\n",
    "    sub_df = sub_df[sub_df['ChemicalNumber'].isin(chem_numbers)]\n",
    "    print(f'ChemicalNumbers selected: {chem_numbers_widget.value}')\n",
    "\n",
    "    \n",
    "print(sub_df)"
   ]
  },
  {
   "cell_type": "markdown",
   "id": "8e6806bb",
   "metadata": {},
   "source": [
    "### We may filter the releases by which \"media\" we are interested in.\n",
    "The available media and their descriptions are listed here.\n",
    "\n",
    "Multiple media may be chosen."
   ]
  },
  {
   "cell_type": "code",
   "execution_count": 29,
   "id": "ead02f8f",
   "metadata": {},
   "outputs": [
    {
     "data": {
      "application/vnd.jupyter.widget-view+json": {
       "model_id": "379a72c24a554f999a514548cd11c6ea",
       "version_major": 2,
       "version_minor": 0
      },
      "text/plain": [
       "SelectMultiple(description='Select Media', layout=Layout(height='200px', width='70%'), options=('1\\t1 Fugitive…"
      ]
     },
     "metadata": {},
     "output_type": "display_data"
    }
   ],
   "source": [
    "from ECHO_modules.rsei_utilities import get_media, show_select_multiple_widget\n",
    "\n",
    "media_df = get_media()\n",
    "media_df['Display'] = media_df['Media'].astype(str) + '\\t' + media_df['MediaText']\n",
    "media_widget = show_select_multiple_widget(media_df['Display'], 'Select Media')\n",
    "media_widget.layout.height = '200px'\n",
    "display(media_widget)"
   ]
  },
  {
   "cell_type": "code",
   "execution_count": 30,
   "id": "a2188157",
   "metadata": {},
   "outputs": [],
   "source": [
    "chosen_media = None\n",
    "if len(media_widget.value ) > 0:\n",
    "    chosen_media = media_df[media_df['Display'].isin(media_widget.value)]"
   ]
  },
  {
   "cell_type": "markdown",
   "id": "7bfcc7d6",
   "metadata": {},
   "source": [
    "Start a linking dataframe with minimal fields to trace from the facility to the offsite locations, via submissions and releases.\n",
    "Join on the FacilityNumber fields of fac_df and sub_df (submissions)."
   ]
  },
  {
   "cell_type": "markdown",
   "id": "6b623678",
   "metadata": {},
   "source": [
    "### Get the releases for the submissions and the elements for the releases\n",
    "Note that many of the releases will not show an OffsiteNumber.\n",
    "Those releases are not sent offsite."
   ]
  },
  {
   "cell_type": "code",
   "execution_count": 31,
   "id": "a5be0310",
   "metadata": {},
   "outputs": [
    {
     "name": "stdout",
     "output_type": "stream",
     "text": [
      "100) reading releases_data_rsei_v2312\n",
      "200) reading releases_data_rsei_v2312\n",
      "300) reading releases_data_rsei_v2312\n",
      "400) reading releases_data_rsei_v2312\n",
      "500) reading releases_data_rsei_v2312\n",
      "600) reading releases_data_rsei_v2312\n",
      "700) reading releases_data_rsei_v2312\n",
      "800) reading releases_data_rsei_v2312\n",
      "900) reading releases_data_rsei_v2312\n",
      "1000) reading releases_data_rsei_v2312\n",
      "1100) reading releases_data_rsei_v2312\n",
      "1200) reading releases_data_rsei_v2312\n",
      "1300) reading releases_data_rsei_v2312\n",
      "1400) reading releases_data_rsei_v2312\n",
      "1500) reading releases_data_rsei_v2312\n",
      "1600) reading releases_data_rsei_v2312\n",
      "1700) reading releases_data_rsei_v2312\n",
      "1800) reading releases_data_rsei_v2312\n",
      "1900) reading releases_data_rsei_v2312\n",
      "2000) reading releases_data_rsei_v2312\n",
      "2100) reading releases_data_rsei_v2312\n",
      "2200) reading releases_data_rsei_v2312\n",
      "2300) reading releases_data_rsei_v2312\n",
      "2400) reading releases_data_rsei_v2312\n",
      "2500) reading releases_data_rsei_v2312\n",
      "2600) reading releases_data_rsei_v2312\n",
      "2700) reading releases_data_rsei_v2312\n",
      "2800) reading releases_data_rsei_v2312\n",
      "2900) reading releases_data_rsei_v2312\n",
      "3000) reading releases_data_rsei_v2312\n",
      "3100) reading releases_data_rsei_v2312\n",
      "3200) reading releases_data_rsei_v2312\n",
      "3300) reading releases_data_rsei_v2312\n",
      "3400) reading releases_data_rsei_v2312\n",
      "3500) reading releases_data_rsei_v2312\n",
      "3600) reading releases_data_rsei_v2312\n",
      "3700) reading releases_data_rsei_v2312\n",
      "3800) reading releases_data_rsei_v2312\n",
      "3900) reading releases_data_rsei_v2312\n",
      "4000) reading releases_data_rsei_v2312\n",
      "4100) reading releases_data_rsei_v2312\n",
      "4200) reading releases_data_rsei_v2312\n",
      "4300) reading releases_data_rsei_v2312\n",
      "4400) reading releases_data_rsei_v2312\n",
      "4500) reading releases_data_rsei_v2312\n",
      "4600) reading releases_data_rsei_v2312\n",
      "4700) reading releases_data_rsei_v2312\n",
      "4800) reading releases_data_rsei_v2312\n",
      "4900) reading releases_data_rsei_v2312\n",
      "5000) reading releases_data_rsei_v2312\n",
      "5100) reading releases_data_rsei_v2312\n",
      "5200) reading releases_data_rsei_v2312\n",
      "5300) reading releases_data_rsei_v2312\n",
      "5400) reading releases_data_rsei_v2312\n",
      "5500) reading releases_data_rsei_v2312\n",
      "5600) reading releases_data_rsei_v2312\n",
      "5700) reading releases_data_rsei_v2312\n",
      "5800) reading releases_data_rsei_v2312\n",
      "5900) reading releases_data_rsei_v2312\n",
      "6000) reading releases_data_rsei_v2312\n",
      "6100) reading releases_data_rsei_v2312\n",
      "6200) reading releases_data_rsei_v2312\n",
      "6300) reading releases_data_rsei_v2312\n",
      "6400) reading releases_data_rsei_v2312\n",
      "6500) reading releases_data_rsei_v2312\n",
      "6600) reading releases_data_rsei_v2312\n",
      "6700) reading releases_data_rsei_v2312\n",
      "6800) reading releases_data_rsei_v2312\n",
      "6900) reading releases_data_rsei_v2312\n",
      "7000) reading releases_data_rsei_v2312\n",
      "7100) reading releases_data_rsei_v2312\n",
      "7200) reading releases_data_rsei_v2312\n",
      "7300) reading releases_data_rsei_v2312\n",
      "7400) reading releases_data_rsei_v2312\n",
      "7500) reading releases_data_rsei_v2312\n",
      "7600) reading releases_data_rsei_v2312\n",
      "7700) reading releases_data_rsei_v2312\n",
      "7800) reading releases_data_rsei_v2312\n",
      "7900) reading releases_data_rsei_v2312\n",
      "8000) reading releases_data_rsei_v2312\n",
      "8100) reading releases_data_rsei_v2312\n",
      "8200) reading releases_data_rsei_v2312\n",
      "8300) reading releases_data_rsei_v2312\n",
      "8400) reading releases_data_rsei_v2312\n",
      "8500) reading releases_data_rsei_v2312\n",
      "8600) reading releases_data_rsei_v2312\n",
      "8700) reading releases_data_rsei_v2312\n",
      "8800) reading releases_data_rsei_v2312\n",
      "8900) reading releases_data_rsei_v2312\n",
      "9000) reading releases_data_rsei_v2312\n",
      "9100) reading releases_data_rsei_v2312\n",
      "9200) reading releases_data_rsei_v2312\n",
      "9300) reading releases_data_rsei_v2312\n",
      "9400) reading releases_data_rsei_v2312\n",
      "9500) reading releases_data_rsei_v2312\n",
      "9600) reading releases_data_rsei_v2312\n",
      "9700) reading releases_data_rsei_v2312\n",
      "9800) reading releases_data_rsei_v2312\n",
      "9900) reading releases_data_rsei_v2312\n",
      "10000) reading releases_data_rsei_v2312\n",
      "10100) reading releases_data_rsei_v2312\n",
      "10200) reading releases_data_rsei_v2312\n",
      "10300) reading releases_data_rsei_v2312\n",
      "10400) reading releases_data_rsei_v2312\n",
      "10500) reading releases_data_rsei_v2312\n",
      "10600) reading releases_data_rsei_v2312\n",
      "10700) reading releases_data_rsei_v2312\n",
      "10800) reading releases_data_rsei_v2312\n",
      "10900) reading releases_data_rsei_v2312\n",
      "11000) reading releases_data_rsei_v2312\n",
      "11100) reading releases_data_rsei_v2312\n",
      "11200) reading releases_data_rsei_v2312\n",
      "11300) reading releases_data_rsei_v2312\n",
      "11400) reading releases_data_rsei_v2312\n",
      "11500) reading releases_data_rsei_v2312\n",
      "11600) reading releases_data_rsei_v2312\n",
      "11700) reading releases_data_rsei_v2312\n",
      "11800) reading releases_data_rsei_v2312\n",
      "11900) reading releases_data_rsei_v2312\n",
      "12000) reading releases_data_rsei_v2312\n",
      "12100) reading releases_data_rsei_v2312\n",
      "12200) reading releases_data_rsei_v2312\n",
      "12300) reading releases_data_rsei_v2312\n",
      "12400) reading releases_data_rsei_v2312\n",
      "12500) reading releases_data_rsei_v2312\n",
      "12600) reading releases_data_rsei_v2312\n",
      "12700) reading releases_data_rsei_v2312\n",
      "12800) reading releases_data_rsei_v2312\n",
      "12900) reading releases_data_rsei_v2312\n",
      "13000) reading releases_data_rsei_v2312\n",
      "13100) reading releases_data_rsei_v2312\n",
      "13200) reading releases_data_rsei_v2312\n",
      "13300) reading releases_data_rsei_v2312\n",
      "13400) reading releases_data_rsei_v2312\n",
      "13500) reading releases_data_rsei_v2312\n",
      "13600) reading releases_data_rsei_v2312\n",
      "13700) reading releases_data_rsei_v2312\n",
      "13800) reading releases_data_rsei_v2312\n",
      "13900) reading releases_data_rsei_v2312\n",
      "14000) reading releases_data_rsei_v2312\n",
      "14100) reading releases_data_rsei_v2312\n",
      "14200) reading releases_data_rsei_v2312\n",
      "14300) reading releases_data_rsei_v2312\n",
      "14400) reading releases_data_rsei_v2312\n",
      "14500) reading releases_data_rsei_v2312\n",
      "14600) reading releases_data_rsei_v2312\n",
      "14700) reading releases_data_rsei_v2312\n",
      "14800) reading releases_data_rsei_v2312\n",
      "14900) reading releases_data_rsei_v2312\n",
      "15000) reading releases_data_rsei_v2312\n",
      "15100) reading releases_data_rsei_v2312\n",
      "15200) reading releases_data_rsei_v2312\n",
      "15300) reading releases_data_rsei_v2312\n",
      "15400) reading releases_data_rsei_v2312\n",
      "15500) reading releases_data_rsei_v2312\n",
      "15600) reading releases_data_rsei_v2312\n",
      "15700) reading releases_data_rsei_v2312\n",
      "15800) reading releases_data_rsei_v2312\n",
      "15900) reading releases_data_rsei_v2312\n",
      "16000) reading releases_data_rsei_v2312\n",
      "16100) reading releases_data_rsei_v2312\n",
      "16200) reading releases_data_rsei_v2312\n",
      "16300) reading releases_data_rsei_v2312\n",
      "16400) reading releases_data_rsei_v2312\n",
      "16500) reading releases_data_rsei_v2312\n",
      "16600) reading releases_data_rsei_v2312\n",
      "16700) reading releases_data_rsei_v2312\n",
      "16800) reading releases_data_rsei_v2312\n",
      "16900) reading releases_data_rsei_v2312\n",
      "17000) reading releases_data_rsei_v2312\n",
      "17100) reading releases_data_rsei_v2312\n",
      "17200) reading releases_data_rsei_v2312\n",
      "17300) reading releases_data_rsei_v2312\n",
      "17400) reading releases_data_rsei_v2312\n",
      "17500) reading releases_data_rsei_v2312\n",
      "17600) reading releases_data_rsei_v2312\n",
      "17700) reading releases_data_rsei_v2312\n",
      "17800) reading releases_data_rsei_v2312\n",
      "17900) reading releases_data_rsei_v2312\n",
      "18000) reading releases_data_rsei_v2312\n",
      "18100) reading releases_data_rsei_v2312\n",
      "18200) reading releases_data_rsei_v2312\n",
      "18300) reading releases_data_rsei_v2312\n",
      "18400) reading releases_data_rsei_v2312\n",
      "18500) reading releases_data_rsei_v2312\n",
      "18600) reading releases_data_rsei_v2312\n",
      "18700) reading releases_data_rsei_v2312\n",
      "18800) reading releases_data_rsei_v2312\n",
      "18900) reading releases_data_rsei_v2312\n",
      "19000) reading releases_data_rsei_v2312\n",
      "19100) reading releases_data_rsei_v2312\n",
      "19200) reading releases_data_rsei_v2312\n",
      "19300) reading releases_data_rsei_v2312\n",
      "19400) reading releases_data_rsei_v2312\n",
      "19500) reading releases_data_rsei_v2312\n",
      "19600) reading releases_data_rsei_v2312\n",
      "19700) reading releases_data_rsei_v2312\n",
      "19800) reading releases_data_rsei_v2312\n",
      "19900) reading releases_data_rsei_v2312\n",
      "20000) reading releases_data_rsei_v2312\n",
      "20100) reading releases_data_rsei_v2312\n",
      "20200) reading releases_data_rsei_v2312\n",
      "20300) reading releases_data_rsei_v2312\n",
      "20400) reading releases_data_rsei_v2312\n",
      "20500) reading releases_data_rsei_v2312\n",
      "20600) reading releases_data_rsei_v2312\n",
      "20700) reading releases_data_rsei_v2312\n",
      "20800) reading releases_data_rsei_v2312\n",
      "20900) reading releases_data_rsei_v2312\n",
      "21000) reading releases_data_rsei_v2312\n",
      "21100) reading releases_data_rsei_v2312\n",
      "21200) reading releases_data_rsei_v2312\n",
      "21300) reading releases_data_rsei_v2312\n",
      "21400) reading releases_data_rsei_v2312\n",
      "21500) reading releases_data_rsei_v2312\n",
      "21600) reading releases_data_rsei_v2312\n",
      "21700) reading releases_data_rsei_v2312\n",
      "21800) reading releases_data_rsei_v2312\n",
      "21900) reading releases_data_rsei_v2312\n",
      "22000) reading releases_data_rsei_v2312\n",
      "22100) reading releases_data_rsei_v2312\n",
      "22200) reading releases_data_rsei_v2312\n",
      "22300) reading releases_data_rsei_v2312\n",
      "22400) reading releases_data_rsei_v2312\n",
      "22500) reading releases_data_rsei_v2312\n",
      "22600) reading releases_data_rsei_v2312\n",
      "22700) reading releases_data_rsei_v2312\n",
      "22800) reading releases_data_rsei_v2312\n",
      "22900) reading releases_data_rsei_v2312\n",
      "23000) reading releases_data_rsei_v2312\n",
      "23100) reading releases_data_rsei_v2312\n",
      "23200) reading releases_data_rsei_v2312\n",
      "23300) reading releases_data_rsei_v2312\n",
      "23400) reading releases_data_rsei_v2312\n",
      "23500) reading releases_data_rsei_v2312\n",
      "23600) reading releases_data_rsei_v2312\n",
      "23700) reading releases_data_rsei_v2312\n",
      "23800) reading releases_data_rsei_v2312\n",
      "23900) reading releases_data_rsei_v2312\n",
      "24000) reading releases_data_rsei_v2312\n",
      "24100) reading releases_data_rsei_v2312\n",
      "24200) reading releases_data_rsei_v2312\n",
      "24300) reading releases_data_rsei_v2312\n",
      "24400) reading releases_data_rsei_v2312\n",
      "24500) reading releases_data_rsei_v2312\n",
      "24600) reading releases_data_rsei_v2312\n",
      "24700) reading releases_data_rsei_v2312\n",
      "24800) reading releases_data_rsei_v2312\n",
      "24900) reading releases_data_rsei_v2312\n",
      "25000) reading releases_data_rsei_v2312\n",
      "25100) reading releases_data_rsei_v2312\n",
      "25200) reading releases_data_rsei_v2312\n",
      "25300) reading releases_data_rsei_v2312\n",
      "25400) reading releases_data_rsei_v2312\n",
      "25500) reading releases_data_rsei_v2312\n",
      "25600) reading releases_data_rsei_v2312\n",
      "25700) reading releases_data_rsei_v2312\n",
      "25800) reading releases_data_rsei_v2312\n",
      "25900) reading releases_data_rsei_v2312\n",
      "26000) reading releases_data_rsei_v2312\n",
      "26100) reading releases_data_rsei_v2312\n",
      "26200) reading releases_data_rsei_v2312\n",
      "26300) reading releases_data_rsei_v2312\n",
      "26400) reading releases_data_rsei_v2312\n",
      "26500) reading releases_data_rsei_v2312\n",
      "26600) reading releases_data_rsei_v2312\n",
      "26700) reading releases_data_rsei_v2312\n",
      "26800) reading releases_data_rsei_v2312\n",
      "26900) reading releases_data_rsei_v2312\n",
      "27000) reading releases_data_rsei_v2312\n",
      "27100) reading releases_data_rsei_v2312\n",
      "27200) reading releases_data_rsei_v2312\n",
      "27300) reading releases_data_rsei_v2312\n",
      "27400) reading releases_data_rsei_v2312\n",
      "27500) reading releases_data_rsei_v2312\n",
      "27600) reading releases_data_rsei_v2312\n",
      "27700) reading releases_data_rsei_v2312\n",
      "27800) reading releases_data_rsei_v2312\n",
      "27900) reading releases_data_rsei_v2312\n",
      "28000) reading releases_data_rsei_v2312\n",
      "28100) reading releases_data_rsei_v2312\n",
      "28200) reading releases_data_rsei_v2312\n",
      "28300) reading releases_data_rsei_v2312\n",
      "28400) reading releases_data_rsei_v2312\n",
      "28500) reading releases_data_rsei_v2312\n",
      "28600) reading releases_data_rsei_v2312\n",
      "28700) reading releases_data_rsei_v2312\n",
      "28800) reading releases_data_rsei_v2312\n",
      "28900) reading releases_data_rsei_v2312\n",
      "29000) reading releases_data_rsei_v2312\n",
      "29100) reading releases_data_rsei_v2312\n",
      "41215 releases found for these submissions\n",
      "100) reading elements_data_rsei_v2312\n",
      "200) reading elements_data_rsei_v2312\n",
      "300) reading elements_data_rsei_v2312\n",
      "400) reading elements_data_rsei_v2312\n",
      "500) reading elements_data_rsei_v2312\n",
      "600) reading elements_data_rsei_v2312\n",
      "700) reading elements_data_rsei_v2312\n",
      "800) reading elements_data_rsei_v2312\n",
      "900) reading elements_data_rsei_v2312\n",
      "1000) reading elements_data_rsei_v2312\n",
      "1100) reading elements_data_rsei_v2312\n",
      "1200) reading elements_data_rsei_v2312\n",
      "1300) reading elements_data_rsei_v2312\n",
      "1400) reading elements_data_rsei_v2312\n",
      "1500) reading elements_data_rsei_v2312\n",
      "1600) reading elements_data_rsei_v2312\n",
      "1700) reading elements_data_rsei_v2312\n",
      "1800) reading elements_data_rsei_v2312\n",
      "1900) reading elements_data_rsei_v2312\n",
      "2000) reading elements_data_rsei_v2312\n",
      "2100) reading elements_data_rsei_v2312\n",
      "2200) reading elements_data_rsei_v2312\n",
      "2300) reading elements_data_rsei_v2312\n",
      "2400) reading elements_data_rsei_v2312\n",
      "2500) reading elements_data_rsei_v2312\n",
      "2600) reading elements_data_rsei_v2312\n",
      "2700) reading elements_data_rsei_v2312\n",
      "2800) reading elements_data_rsei_v2312\n",
      "2900) reading elements_data_rsei_v2312\n",
      "3000) reading elements_data_rsei_v2312\n",
      "3100) reading elements_data_rsei_v2312\n",
      "3200) reading elements_data_rsei_v2312\n",
      "3300) reading elements_data_rsei_v2312\n",
      "3400) reading elements_data_rsei_v2312\n",
      "3500) reading elements_data_rsei_v2312\n",
      "3600) reading elements_data_rsei_v2312\n",
      "3700) reading elements_data_rsei_v2312\n",
      "3800) reading elements_data_rsei_v2312\n",
      "3900) reading elements_data_rsei_v2312\n",
      "4000) reading elements_data_rsei_v2312\n",
      "4100) reading elements_data_rsei_v2312\n",
      "4200) reading elements_data_rsei_v2312\n",
      "4300) reading elements_data_rsei_v2312\n",
      "4400) reading elements_data_rsei_v2312\n",
      "4500) reading elements_data_rsei_v2312\n",
      "4600) reading elements_data_rsei_v2312\n",
      "4700) reading elements_data_rsei_v2312\n",
      "4800) reading elements_data_rsei_v2312\n",
      "4900) reading elements_data_rsei_v2312\n",
      "5000) reading elements_data_rsei_v2312\n",
      "5100) reading elements_data_rsei_v2312\n",
      "5200) reading elements_data_rsei_v2312\n",
      "5300) reading elements_data_rsei_v2312\n",
      "5400) reading elements_data_rsei_v2312\n",
      "5500) reading elements_data_rsei_v2312\n",
      "5600) reading elements_data_rsei_v2312\n",
      "5700) reading elements_data_rsei_v2312\n",
      "5800) reading elements_data_rsei_v2312\n",
      "5900) reading elements_data_rsei_v2312\n",
      "6000) reading elements_data_rsei_v2312\n",
      "6100) reading elements_data_rsei_v2312\n",
      "6200) reading elements_data_rsei_v2312\n",
      "6300) reading elements_data_rsei_v2312\n",
      "6400) reading elements_data_rsei_v2312\n",
      "6500) reading elements_data_rsei_v2312\n",
      "6600) reading elements_data_rsei_v2312\n",
      "6700) reading elements_data_rsei_v2312\n",
      "6800) reading elements_data_rsei_v2312\n",
      "6900) reading elements_data_rsei_v2312\n",
      "7000) reading elements_data_rsei_v2312\n",
      "7100) reading elements_data_rsei_v2312\n",
      "7200) reading elements_data_rsei_v2312\n",
      "7300) reading elements_data_rsei_v2312\n",
      "7400) reading elements_data_rsei_v2312\n",
      "7500) reading elements_data_rsei_v2312\n",
      "7600) reading elements_data_rsei_v2312\n",
      "7700) reading elements_data_rsei_v2312\n",
      "7800) reading elements_data_rsei_v2312\n",
      "7900) reading elements_data_rsei_v2312\n",
      "8000) reading elements_data_rsei_v2312\n",
      "8100) reading elements_data_rsei_v2312\n",
      "8200) reading elements_data_rsei_v2312\n",
      "8300) reading elements_data_rsei_v2312\n",
      "8400) reading elements_data_rsei_v2312\n",
      "8500) reading elements_data_rsei_v2312\n",
      "8600) reading elements_data_rsei_v2312\n",
      "8700) reading elements_data_rsei_v2312\n",
      "8800) reading elements_data_rsei_v2312\n",
      "8900) reading elements_data_rsei_v2312\n",
      "9000) reading elements_data_rsei_v2312\n",
      "9100) reading elements_data_rsei_v2312\n",
      "9200) reading elements_data_rsei_v2312\n",
      "9300) reading elements_data_rsei_v2312\n",
      "9400) reading elements_data_rsei_v2312\n",
      "9500) reading elements_data_rsei_v2312\n",
      "9600) reading elements_data_rsei_v2312\n",
      "9700) reading elements_data_rsei_v2312\n",
      "9800) reading elements_data_rsei_v2312\n",
      "9900) reading elements_data_rsei_v2312\n",
      "10000) reading elements_data_rsei_v2312\n",
      "10100) reading elements_data_rsei_v2312\n",
      "10200) reading elements_data_rsei_v2312\n",
      "10300) reading elements_data_rsei_v2312\n",
      "10400) reading elements_data_rsei_v2312\n",
      "10500) reading elements_data_rsei_v2312\n",
      "10600) reading elements_data_rsei_v2312\n",
      "10700) reading elements_data_rsei_v2312\n",
      "10800) reading elements_data_rsei_v2312\n",
      "10900) reading elements_data_rsei_v2312\n",
      "11000) reading elements_data_rsei_v2312\n",
      "11100) reading elements_data_rsei_v2312\n",
      "11200) reading elements_data_rsei_v2312\n",
      "11300) reading elements_data_rsei_v2312\n",
      "11400) reading elements_data_rsei_v2312\n",
      "11500) reading elements_data_rsei_v2312\n",
      "11600) reading elements_data_rsei_v2312\n",
      "11700) reading elements_data_rsei_v2312\n",
      "11800) reading elements_data_rsei_v2312\n",
      "11900) reading elements_data_rsei_v2312\n",
      "12000) reading elements_data_rsei_v2312\n",
      "12100) reading elements_data_rsei_v2312\n",
      "12200) reading elements_data_rsei_v2312\n",
      "12300) reading elements_data_rsei_v2312\n",
      "12400) reading elements_data_rsei_v2312\n",
      "12500) reading elements_data_rsei_v2312\n",
      "12600) reading elements_data_rsei_v2312\n",
      "12700) reading elements_data_rsei_v2312\n",
      "12800) reading elements_data_rsei_v2312\n",
      "12900) reading elements_data_rsei_v2312\n",
      "13000) reading elements_data_rsei_v2312\n",
      "13100) reading elements_data_rsei_v2312\n",
      "13200) reading elements_data_rsei_v2312\n",
      "13300) reading elements_data_rsei_v2312\n",
      "13400) reading elements_data_rsei_v2312\n",
      "13500) reading elements_data_rsei_v2312\n",
      "13600) reading elements_data_rsei_v2312\n",
      "13700) reading elements_data_rsei_v2312\n",
      "13800) reading elements_data_rsei_v2312\n",
      "13900) reading elements_data_rsei_v2312\n",
      "14000) reading elements_data_rsei_v2312\n",
      "14100) reading elements_data_rsei_v2312\n",
      "14200) reading elements_data_rsei_v2312\n",
      "14300) reading elements_data_rsei_v2312\n",
      "14400) reading elements_data_rsei_v2312\n",
      "14500) reading elements_data_rsei_v2312\n",
      "14600) reading elements_data_rsei_v2312\n",
      "14700) reading elements_data_rsei_v2312\n",
      "14800) reading elements_data_rsei_v2312\n",
      "14900) reading elements_data_rsei_v2312\n",
      "15000) reading elements_data_rsei_v2312\n",
      "15100) reading elements_data_rsei_v2312\n",
      "15200) reading elements_data_rsei_v2312\n",
      "15300) reading elements_data_rsei_v2312\n",
      "15400) reading elements_data_rsei_v2312\n",
      "15500) reading elements_data_rsei_v2312\n",
      "15600) reading elements_data_rsei_v2312\n",
      "15700) reading elements_data_rsei_v2312\n",
      "15800) reading elements_data_rsei_v2312\n",
      "15900) reading elements_data_rsei_v2312\n",
      "16000) reading elements_data_rsei_v2312\n",
      "16100) reading elements_data_rsei_v2312\n",
      "16200) reading elements_data_rsei_v2312\n",
      "16300) reading elements_data_rsei_v2312\n",
      "16400) reading elements_data_rsei_v2312\n",
      "16500) reading elements_data_rsei_v2312\n",
      "16600) reading elements_data_rsei_v2312\n",
      "16700) reading elements_data_rsei_v2312\n",
      "16800) reading elements_data_rsei_v2312\n",
      "16900) reading elements_data_rsei_v2312\n",
      "17000) reading elements_data_rsei_v2312\n",
      "17100) reading elements_data_rsei_v2312\n",
      "17200) reading elements_data_rsei_v2312\n",
      "17300) reading elements_data_rsei_v2312\n",
      "17400) reading elements_data_rsei_v2312\n",
      "17500) reading elements_data_rsei_v2312\n",
      "17600) reading elements_data_rsei_v2312\n",
      "17700) reading elements_data_rsei_v2312\n",
      "17800) reading elements_data_rsei_v2312\n",
      "17900) reading elements_data_rsei_v2312\n",
      "18000) reading elements_data_rsei_v2312\n",
      "18100) reading elements_data_rsei_v2312\n",
      "18200) reading elements_data_rsei_v2312\n",
      "18300) reading elements_data_rsei_v2312\n",
      "18400) reading elements_data_rsei_v2312\n",
      "18500) reading elements_data_rsei_v2312\n",
      "18600) reading elements_data_rsei_v2312\n",
      "18700) reading elements_data_rsei_v2312\n",
      "18800) reading elements_data_rsei_v2312\n",
      "18900) reading elements_data_rsei_v2312\n",
      "19000) reading elements_data_rsei_v2312\n",
      "19100) reading elements_data_rsei_v2312\n",
      "19200) reading elements_data_rsei_v2312\n",
      "19300) reading elements_data_rsei_v2312\n",
      "19400) reading elements_data_rsei_v2312\n",
      "19500) reading elements_data_rsei_v2312\n",
      "19600) reading elements_data_rsei_v2312\n",
      "19700) reading elements_data_rsei_v2312\n",
      "19800) reading elements_data_rsei_v2312\n",
      "19900) reading elements_data_rsei_v2312\n",
      "20000) reading elements_data_rsei_v2312\n",
      "20100) reading elements_data_rsei_v2312\n",
      "20200) reading elements_data_rsei_v2312\n",
      "20300) reading elements_data_rsei_v2312\n",
      "20400) reading elements_data_rsei_v2312\n",
      "20500) reading elements_data_rsei_v2312\n",
      "20600) reading elements_data_rsei_v2312\n",
      "20700) reading elements_data_rsei_v2312\n",
      "20800) reading elements_data_rsei_v2312\n",
      "20900) reading elements_data_rsei_v2312\n",
      "21000) reading elements_data_rsei_v2312\n",
      "21100) reading elements_data_rsei_v2312\n",
      "21200) reading elements_data_rsei_v2312\n",
      "21300) reading elements_data_rsei_v2312\n",
      "21400) reading elements_data_rsei_v2312\n",
      "21500) reading elements_data_rsei_v2312\n",
      "21600) reading elements_data_rsei_v2312\n",
      "21700) reading elements_data_rsei_v2312\n",
      "21800) reading elements_data_rsei_v2312\n",
      "21900) reading elements_data_rsei_v2312\n",
      "22000) reading elements_data_rsei_v2312\n",
      "22100) reading elements_data_rsei_v2312\n",
      "22200) reading elements_data_rsei_v2312\n",
      "22300) reading elements_data_rsei_v2312\n",
      "22400) reading elements_data_rsei_v2312\n",
      "22500) reading elements_data_rsei_v2312\n",
      "22600) reading elements_data_rsei_v2312\n",
      "22700) reading elements_data_rsei_v2312\n",
      "22800) reading elements_data_rsei_v2312\n",
      "22900) reading elements_data_rsei_v2312\n",
      "23000) reading elements_data_rsei_v2312\n",
      "23100) reading elements_data_rsei_v2312\n",
      "23200) reading elements_data_rsei_v2312\n",
      "23300) reading elements_data_rsei_v2312\n",
      "23400) reading elements_data_rsei_v2312\n",
      "23500) reading elements_data_rsei_v2312\n",
      "23600) reading elements_data_rsei_v2312\n",
      "23700) reading elements_data_rsei_v2312\n",
      "23800) reading elements_data_rsei_v2312\n",
      "23900) reading elements_data_rsei_v2312\n",
      "24000) reading elements_data_rsei_v2312\n",
      "24100) reading elements_data_rsei_v2312\n",
      "24200) reading elements_data_rsei_v2312\n",
      "24300) reading elements_data_rsei_v2312\n",
      "24400) reading elements_data_rsei_v2312\n",
      "24500) reading elements_data_rsei_v2312\n",
      "24600) reading elements_data_rsei_v2312\n",
      "24700) reading elements_data_rsei_v2312\n",
      "24800) reading elements_data_rsei_v2312\n",
      "24900) reading elements_data_rsei_v2312\n",
      "25000) reading elements_data_rsei_v2312\n",
      "25100) reading elements_data_rsei_v2312\n",
      "25200) reading elements_data_rsei_v2312\n",
      "25300) reading elements_data_rsei_v2312\n",
      "25400) reading elements_data_rsei_v2312\n",
      "25500) reading elements_data_rsei_v2312\n",
      "25600) reading elements_data_rsei_v2312\n",
      "25700) reading elements_data_rsei_v2312\n",
      "25800) reading elements_data_rsei_v2312\n",
      "25900) reading elements_data_rsei_v2312\n",
      "26000) reading elements_data_rsei_v2312\n",
      "26100) reading elements_data_rsei_v2312\n",
      "26200) reading elements_data_rsei_v2312\n",
      "26300) reading elements_data_rsei_v2312\n",
      "26400) reading elements_data_rsei_v2312\n",
      "26500) reading elements_data_rsei_v2312\n",
      "26600) reading elements_data_rsei_v2312\n",
      "26700) reading elements_data_rsei_v2312\n",
      "26800) reading elements_data_rsei_v2312\n",
      "26900) reading elements_data_rsei_v2312\n",
      "27000) reading elements_data_rsei_v2312\n",
      "27100) reading elements_data_rsei_v2312\n",
      "27200) reading elements_data_rsei_v2312\n",
      "27300) reading elements_data_rsei_v2312\n",
      "27400) reading elements_data_rsei_v2312\n",
      "27500) reading elements_data_rsei_v2312\n",
      "27600) reading elements_data_rsei_v2312\n",
      "27700) reading elements_data_rsei_v2312\n",
      "27800) reading elements_data_rsei_v2312\n",
      "27900) reading elements_data_rsei_v2312\n",
      "28000) reading elements_data_rsei_v2312\n",
      "28100) reading elements_data_rsei_v2312\n",
      "28200) reading elements_data_rsei_v2312\n",
      "28300) reading elements_data_rsei_v2312\n",
      "28400) reading elements_data_rsei_v2312\n",
      "28500) reading elements_data_rsei_v2312\n",
      "28600) reading elements_data_rsei_v2312\n",
      "28700) reading elements_data_rsei_v2312\n",
      "28800) reading elements_data_rsei_v2312\n",
      "28900) reading elements_data_rsei_v2312\n",
      "29000) reading elements_data_rsei_v2312\n",
      "29100) reading elements_data_rsei_v2312\n",
      "29200) reading elements_data_rsei_v2312\n",
      "29300) reading elements_data_rsei_v2312\n",
      "29400) reading elements_data_rsei_v2312\n",
      "29500) reading elements_data_rsei_v2312\n",
      "29600) reading elements_data_rsei_v2312\n",
      "29700) reading elements_data_rsei_v2312\n",
      "29800) reading elements_data_rsei_v2312\n",
      "29900) reading elements_data_rsei_v2312\n",
      "30000) reading elements_data_rsei_v2312\n",
      "30100) reading elements_data_rsei_v2312\n",
      "30200) reading elements_data_rsei_v2312\n",
      "30300) reading elements_data_rsei_v2312\n",
      "30400) reading elements_data_rsei_v2312\n",
      "30500) reading elements_data_rsei_v2312\n",
      "30600) reading elements_data_rsei_v2312\n",
      "30700) reading elements_data_rsei_v2312\n",
      "30800) reading elements_data_rsei_v2312\n",
      "30900) reading elements_data_rsei_v2312\n",
      "31000) reading elements_data_rsei_v2312\n",
      "31100) reading elements_data_rsei_v2312\n",
      "31200) reading elements_data_rsei_v2312\n",
      "31300) reading elements_data_rsei_v2312\n",
      "31400) reading elements_data_rsei_v2312\n",
      "31500) reading elements_data_rsei_v2312\n",
      "31600) reading elements_data_rsei_v2312\n",
      "31700) reading elements_data_rsei_v2312\n",
      "31800) reading elements_data_rsei_v2312\n",
      "31900) reading elements_data_rsei_v2312\n",
      "32000) reading elements_data_rsei_v2312\n",
      "32100) reading elements_data_rsei_v2312\n",
      "32200) reading elements_data_rsei_v2312\n",
      "32300) reading elements_data_rsei_v2312\n",
      "32400) reading elements_data_rsei_v2312\n",
      "32500) reading elements_data_rsei_v2312\n",
      "32600) reading elements_data_rsei_v2312\n",
      "32700) reading elements_data_rsei_v2312\n",
      "32800) reading elements_data_rsei_v2312\n",
      "32900) reading elements_data_rsei_v2312\n",
      "33000) reading elements_data_rsei_v2312\n",
      "33100) reading elements_data_rsei_v2312\n",
      "33200) reading elements_data_rsei_v2312\n",
      "33300) reading elements_data_rsei_v2312\n",
      "33400) reading elements_data_rsei_v2312\n",
      "33500) reading elements_data_rsei_v2312\n",
      "33600) reading elements_data_rsei_v2312\n",
      "33700) reading elements_data_rsei_v2312\n",
      "33800) reading elements_data_rsei_v2312\n",
      "33900) reading elements_data_rsei_v2312\n",
      "34000) reading elements_data_rsei_v2312\n",
      "34100) reading elements_data_rsei_v2312\n",
      "34200) reading elements_data_rsei_v2312\n",
      "34300) reading elements_data_rsei_v2312\n",
      "34400) reading elements_data_rsei_v2312\n",
      "34500) reading elements_data_rsei_v2312\n",
      "34600) reading elements_data_rsei_v2312\n",
      "34700) reading elements_data_rsei_v2312\n",
      "34800) reading elements_data_rsei_v2312\n",
      "34900) reading elements_data_rsei_v2312\n",
      "35000) reading elements_data_rsei_v2312\n",
      "35100) reading elements_data_rsei_v2312\n",
      "35200) reading elements_data_rsei_v2312\n",
      "35300) reading elements_data_rsei_v2312\n",
      "35400) reading elements_data_rsei_v2312\n",
      "35500) reading elements_data_rsei_v2312\n",
      "35600) reading elements_data_rsei_v2312\n",
      "35700) reading elements_data_rsei_v2312\n",
      "35800) reading elements_data_rsei_v2312\n",
      "35900) reading elements_data_rsei_v2312\n",
      "36000) reading elements_data_rsei_v2312\n",
      "36100) reading elements_data_rsei_v2312\n",
      "36200) reading elements_data_rsei_v2312\n",
      "36300) reading elements_data_rsei_v2312\n",
      "36400) reading elements_data_rsei_v2312\n",
      "36500) reading elements_data_rsei_v2312\n",
      "36600) reading elements_data_rsei_v2312\n",
      "36700) reading elements_data_rsei_v2312\n",
      "36800) reading elements_data_rsei_v2312\n",
      "36900) reading elements_data_rsei_v2312\n",
      "37000) reading elements_data_rsei_v2312\n",
      "37100) reading elements_data_rsei_v2312\n",
      "37200) reading elements_data_rsei_v2312\n",
      "37300) reading elements_data_rsei_v2312\n",
      "37400) reading elements_data_rsei_v2312\n",
      "37500) reading elements_data_rsei_v2312\n",
      "37600) reading elements_data_rsei_v2312\n",
      "37700) reading elements_data_rsei_v2312\n",
      "37800) reading elements_data_rsei_v2312\n",
      "37900) reading elements_data_rsei_v2312\n",
      "38000) reading elements_data_rsei_v2312\n",
      "38100) reading elements_data_rsei_v2312\n",
      "38200) reading elements_data_rsei_v2312\n",
      "38300) reading elements_data_rsei_v2312\n",
      "38400) reading elements_data_rsei_v2312\n",
      "38500) reading elements_data_rsei_v2312\n",
      "38600) reading elements_data_rsei_v2312\n",
      "38700) reading elements_data_rsei_v2312\n",
      "38800) reading elements_data_rsei_v2312\n",
      "38900) reading elements_data_rsei_v2312\n",
      "39000) reading elements_data_rsei_v2312\n",
      "39100) reading elements_data_rsei_v2312\n",
      "39200) reading elements_data_rsei_v2312\n",
      "39300) reading elements_data_rsei_v2312\n",
      "39400) reading elements_data_rsei_v2312\n",
      "39500) reading elements_data_rsei_v2312\n",
      "39600) reading elements_data_rsei_v2312\n",
      "39700) reading elements_data_rsei_v2312\n",
      "39800) reading elements_data_rsei_v2312\n",
      "39900) reading elements_data_rsei_v2312\n",
      "40000) reading elements_data_rsei_v2312\n",
      "40100) reading elements_data_rsei_v2312\n",
      "40200) reading elements_data_rsei_v2312\n",
      "40300) reading elements_data_rsei_v2312\n",
      "40400) reading elements_data_rsei_v2312\n",
      "40500) reading elements_data_rsei_v2312\n",
      "40600) reading elements_data_rsei_v2312\n",
      "40700) reading elements_data_rsei_v2312\n",
      "40800) reading elements_data_rsei_v2312\n",
      "40900) reading elements_data_rsei_v2312\n",
      "41000) reading elements_data_rsei_v2312\n",
      "41100) reading elements_data_rsei_v2312\n",
      "41200) reading elements_data_rsei_v2312\n",
      "42127 elements found for these releases\n"
     ]
    }
   ],
   "source": [
    "# Link the facilities to the submissions\n",
    "link_df = fac_df.set_index('FacilityNumber').join(sub_df.set_index('FacilityNumber'), lsuffix='_left', rsuffix='_right')\n",
    "\n",
    "# Get the releases for the submissions\n",
    "columns = '\"ReleaseNumber\", \"SubmissionNumber\", \"Media\", \"PoundsReleased\", \"OffsiteNumber\", \"TEF\"'\n",
    "filter = None\n",
    "if chosen_media is not None:\n",
    "    filter = {'filter_field' : 'Media', 'filter_list' : chosen_media['Media'].to_list(), 'int_flag' : True}\n",
    "rel_df = get_this_by_that(this_name='releases', that_series=sub_df['SubmissionNumber'], this_key='SubmissionNumber',\n",
    "                          this_columns=columns, filter = filter)\n",
    "if chosen_media is not None:\n",
    "    rel_df = rel_df.dropna(subset=['Media'])\n",
    "print(f'{len(rel_df)} releases found for these submissions')\n",
    "\n",
    "# Get the elements for the releases\n",
    "columns = '\"ReleaseNumber\", \"ElementNumber\", \"PoundsPT\", \"ScoreCategory\", \"Score\", \"Population\", \"ScoreA\", \"PopA\", \"ScoreB\", \"PopB\"'\n",
    "element_df = get_this_by_that(this_name='elements', that_series=rel_df['ReleaseNumber'], this_key='ReleaseNumber', \n",
    "                              this_columns=columns)\n",
    "print(f'{len(element_df)} elements found for these releases')\n",
    "# Add the elements to the releases dataframe\n",
    "rel_df = rel_df.set_index('ReleaseNumber').join(element_df.set_index('ReleaseNumber'), how='left')"
   ]
  },
  {
   "cell_type": "code",
   "execution_count": 32,
   "id": "14fe8c09",
   "metadata": {},
   "outputs": [],
   "source": [
    "# Continue the linking process for facilities by joining the previous link with the releases.\n",
    "# link_df1 will have all of the releases\n",
    "# link_df2 will have only releases sent to offsite facilities\n",
    "link_df1 = link_df.set_index('SubmissionNumber').join(rel_df.set_index('SubmissionNumber'))\n",
    "link_df2 = link_df.set_index('SubmissionNumber').join(rel_df.set_index('SubmissionNumber')).dropna(subset=('OffsiteNumber'))"
   ]
  },
  {
   "cell_type": "markdown",
   "id": "fef2ab0f",
   "metadata": {},
   "source": [
    "## Write out the chemical and element data for these facilities\n",
    "This first file will contain all of the releases, the chemicals, the score, pounds released pre and post-tratment, population effected and the year."
   ]
  },
  {
   "cell_type": "code",
   "execution_count": 36,
   "id": "6d8df8f5",
   "metadata": {},
   "outputs": [
    {
     "data": {
      "application/vnd.jupyter.widget-view+json": {
       "model_id": "c0abcc1effbb4a15b3bd04b5091111eb",
       "version_major": 2,
       "version_minor": 0
      },
      "text/plain": [
       "Text(value='facility_chemicals.csv', description='Filename')"
      ]
     },
     "execution_count": 36,
     "metadata": {},
     "output_type": "execute_result"
    }
   ],
   "source": [
    "tmp_df = link_df1[link_df1.index.notnull()]\n",
    "fac_chemicals = tmp_df[['FacilityID', 'FacilityName', 'Standard', 'Media', 'Chemical', 'Score', 'ScoreCategory', \n",
    "                        'PoundsReleased', 'PoundsPT', 'Population', 'SubmissionYear']]\n",
    "\n",
    "from ipywidgets import widgets\n",
    "filename_widget = widgets.Text(\n",
    "    value='facility_chemicals.csv',\n",
    "    description=\"Filename\",\n",
    "    disabled=False\n",
    ")\n",
    "filename_widget"
   ]
  },
  {
   "cell_type": "markdown",
   "id": "8f5d3f52",
   "metadata": {},
   "source": [
    "#### Write the file."
   ]
  },
  {
   "cell_type": "code",
   "execution_count": 37,
   "id": "05785475",
   "metadata": {},
   "outputs": [],
   "source": [
    "fac_chemicals.to_csv(filename_widget.value)"
   ]
  },
  {
   "cell_type": "markdown",
   "id": "2ba5616a",
   "metadata": {},
   "source": [
    "### Get the total pounds released, grouped by the facility and chemical\n",
    "The next file will sum the pounds of the chemical released by the facility for the entire period."
   ]
  },
  {
   "cell_type": "code",
   "execution_count": null,
   "id": "a95cd107",
   "metadata": {},
   "outputs": [],
   "source": [
    "fac_chem_pounds = link_df1.groupby(['FacilityName', 'Chemical'], as_index=False).agg({'Score' : 'mean', 'PoundsReleased' : 'sum', 'PoundsPT' : 'sum'})\n",
    "\n",
    "fac_chem_pounds"
   ]
  },
  {
   "cell_type": "markdown",
   "id": "6fad3537",
   "metadata": {},
   "source": [
    "### Choose a file to write to"
   ]
  },
  {
   "cell_type": "code",
   "execution_count": null,
   "id": "d76c7375",
   "metadata": {},
   "outputs": [],
   "source": [
    "from ipywidgets import widgets\n",
    "filename_widget = widgets.Text(\n",
    "    value='pounds_released.csv',\n",
    "    description=\"Filename\",\n",
    "    disabled=False\n",
    ")\n",
    "filename_widget"
   ]
  },
  {
   "cell_type": "markdown",
   "id": "2c0d1522",
   "metadata": {},
   "source": [
    "#### Write the file"
   ]
  },
  {
   "cell_type": "code",
   "execution_count": null,
   "id": "f28d603b",
   "metadata": {},
   "outputs": [],
   "source": [
    "fac_chem_pounds.to_csv(filename_widget.value)"
   ]
  },
  {
   "cell_type": "markdown",
   "id": "788f37b5",
   "metadata": {},
   "source": [
    "### Get the offsite facilities from the releases and sum the pounds released"
   ]
  },
  {
   "cell_type": "code",
   "execution_count": null,
   "id": "710c27f6",
   "metadata": {},
   "outputs": [],
   "source": [
    "if len(link_df2) > 0:\n",
    "    columns = '\"FacilityNumber\", \"TRIFID\", \"FRSID\", \"Name\", \"Street\", \"City\", \"State\", \"ZIPCode\", \"Latitude\", \"Longitude\"'\n",
    "    off_df = get_this_by_that(this_name='offsite', that_series=link_df2['OffsiteNumber'].dropna(), this_key='OffsiteID', this_columns=columns)\n",
    "    print(f'{len(rel_df)} releases found for these submissions')\n",
    "\n",
    "    # Continue the linking process started earlier. \n",
    "    # This time link the OffsiteNumber from releases with the FacilityNumber in offsite.\n",
    "    link_df3 = link_df2.set_index('OffsiteNumber').join(off_df.set_index('FacilityNumber'), lsuffix='_left', rsuffix='_right')\n",
    "    \n",
    "    # Sum the pounds of chemical released by producing and offsite facilities\n",
    "    off_chem_pounds = link_df3.groupby(['FacilityName', 'Name', 'Chemical'])['PoundsReleased'].sum()\n",
    "else:\n",
    "    print('There are no offsite releases for these facilities and media.')"
   ]
  },
  {
   "cell_type": "markdown",
   "id": "728c9546",
   "metadata": {},
   "source": [
    "#### If there are no offsite releases, the cells that follow having to do with the offsite facilities won't have meaning.\n",
    "This can happen if we have chosen only air releases, for example."
   ]
  },
  {
   "cell_type": "markdown",
   "id": "e8d2d5b8",
   "metadata": {},
   "source": [
    "### Choose a file to write the chemicals and pounds transferred to each offsite facility "
   ]
  },
  {
   "cell_type": "code",
   "execution_count": null,
   "id": "c885311e",
   "metadata": {},
   "outputs": [],
   "source": [
    "from ipywidgets import widgets\n",
    "filename_widget = widgets.Text(\n",
    "    value='offsite_pounds_released.csv',\n",
    "    description=\"Filename\",\n",
    "    disabled=False\n",
    ")\n",
    "filename_widget"
   ]
  },
  {
   "cell_type": "markdown",
   "id": "19001f7e",
   "metadata": {},
   "source": [
    "#### Write the file"
   ]
  },
  {
   "cell_type": "code",
   "execution_count": null,
   "id": "0efda180",
   "metadata": {},
   "outputs": [],
   "source": [
    "off_chem_pounds.to_csv(filename_widget.value)"
   ]
  },
  {
   "cell_type": "markdown",
   "id": "91798b64",
   "metadata": {},
   "source": [
    "### Link the producing facilities with their offsite facilities."
   ]
  },
  {
   "cell_type": "markdown",
   "id": "d79e98a9",
   "metadata": {},
   "source": [
    "Map the facilities releasing and the offsite facilities they send to.\n",
    "    df_dicts : tuple\n",
    "        Tuple of dictionaries containing the facilities to map.  They must have a latitude and \n",
    "        longitude field. The dictionaries should have these fields:\n",
    "\n",
    "             the DataFrame - 'DataFrame'\n",
    "\n",
    "             circle border color - 'marker_color'\n",
    "\n",
    "             circle interior color - 'marker_fill_color'\n",
    "\n",
    "             facility name - 'name_field' in the dataframe \n",
    "\n",
    "             latitude field - 'lat_field'\n",
    "\n",
    "             longitude field - 'long_field'\n",
    "\n",
    "             info field - 'info_field'\n",
    "\n",
    "The facilities producing waste will be shown with green circles.\n",
    "The offsite facilities receiving the waste from the green facilities are shown with blue circles."
   ]
  },
  {
   "cell_type": "code",
   "execution_count": null,
   "id": "9bbfad89",
   "metadata": {},
   "outputs": [],
   "source": [
    "from ECHO_modules.rsei_utilities import mapper2\n",
    "'''\n",
    "Pare the linking information down to just the latitude/longitude for the originating facility (_left)\n",
    "and the coordinates for the offsite facility (_right).\n",
    "There may be multiple transfers between the same two facilities, so we drop duplicates.\n",
    "(The multiple transfers may be of interest. They will exist in link_df3.)\n",
    "'''\n",
    "link_df3 = link_df3.dropna(subset=['Latitude_left', 'Longitude_left', 'Latitude_right', 'Longitude_right'])\n",
    "link_df4 = link_df3.drop_duplicates(subset=['Latitude_left', 'Longitude_left', 'Latitude_right', 'Longitude_right'])\n",
    "link_df4 = link_df4[['Latitude_left', 'Longitude_left', 'Latitude_right', 'Longitude_right']]\n",
    "\n",
    "fac_df = fac_df.dropna(subset=['Latitude', 'Longitude'])\n",
    "off_df = off_df.dropna(subset=['Latitude', 'Longitude'])\n",
    "fac_dict = {\n",
    "    'DataFrame' : fac_df,\n",
    "    'marker_color' : 'black',\n",
    "    'marker_fill_color' : 'green',\n",
    "    'name_field' : 'FacilityName',\n",
    "    'lat_field' : 'Latitude',\n",
    "    'long_field' : 'Longitude',\n",
    "    'info_field' : None\n",
    "}\n",
    "off_dict = {\n",
    "    'DataFrame' : off_df,\n",
    "    'marker_color' : 'yellow',\n",
    "    'marker_fill_color' : 'blue',\n",
    "    'name_field' : 'Name',\n",
    "    'lat_field' : 'Latitude',\n",
    "    'long_field' : 'Longitude',\n",
    "    'info_field' : None\n",
    "}\n",
    "map_facs_and_offs = mapper2(df_dicts=(fac_dict, off_dict), link_df=link_df4 )\n",
    "display(map_facs_and_offs)"
   ]
  },
  {
   "cell_type": "markdown",
   "id": "19b5ebf2",
   "metadata": {},
   "source": [
    "#### Save the map as an HTML file"
   ]
  },
  {
   "cell_type": "code",
   "execution_count": null,
   "id": "97473e63",
   "metadata": {},
   "outputs": [],
   "source": [
    "from ipywidgets import widgets\n",
    "filename_widget = widgets.Text(\n",
    "    value='map_facs_to_offs.html',\n",
    "    description=\"Filename\",\n",
    "    disabled=False\n",
    ")\n",
    "filename_widget"
   ]
  },
  {
   "cell_type": "code",
   "execution_count": null,
   "id": "7b8ac6c7",
   "metadata": {},
   "outputs": [],
   "source": [
    "map_facs_and_offs.save(filename_widget.value)"
   ]
  },
  {
   "cell_type": "markdown",
   "id": "5302ee29",
   "metadata": {},
   "source": [
    "#### Select one or more producing facilities to show their offsites\n",
    "To zero in on one or a few producing facilities, you can select them from the list."
   ]
  },
  {
   "cell_type": "code",
   "execution_count": null,
   "id": "348add4d",
   "metadata": {},
   "outputs": [],
   "source": [
    "from ECHO_modules.utilities import show_fac_widget\n",
    "\n",
    "fac_widget = show_fac_widget(fac_df['FacilityName'])\n",
    "fac_widget.layout.height = '200px'"
   ]
  },
  {
   "cell_type": "code",
   "execution_count": null,
   "id": "bc80a69b",
   "metadata": {},
   "outputs": [],
   "source": [
    "import pandas as pd\n",
    "\n",
    "fac_off_df = link_df3[link_df3['FacilityName'].isin(fac_widget.value)]\n",
    "off_count = len(fac_off_df['Name'].unique())\n",
    "print(f'{len(fac_off_df)} transfers from these facilities to {off_count} offsite locations')\n",
    "# df = pd.DataFrame(fac_widget.value)\n",
    "fac_off_df = fac_off_df.drop_duplicates(subset=['Latitude_left', 'Longitude_left', 'Latitude_right', 'Longitude_right'])\n",
    "fac_off_link_df = fac_off_df.drop_duplicates(subset=['Latitude_left', 'Longitude_left', 'Latitude_right', 'Longitude_right'])\n",
    "fac_off_link_df = fac_off_link_df[['Latitude_left', 'Longitude_left', 'Latitude_right', 'Longitude_right']]\n",
    "fac_off_link_df"
   ]
  },
  {
   "cell_type": "markdown",
   "id": "0db75d76",
   "metadata": {},
   "source": [
    "### Show the map again for just these selected producing facilities"
   ]
  },
  {
   "cell_type": "code",
   "execution_count": null,
   "id": "77e99ddc",
   "metadata": {},
   "outputs": [],
   "source": [
    "fac_dict = {\n",
    "    'DataFrame' : fac_off_df,\n",
    "    'marker_color' : 'black',\n",
    "    'marker_fill_color' : 'green',\n",
    "    'name_field' : 'FacilityName',\n",
    "    'lat_field' : 'Latitude_left',\n",
    "    'long_field' : 'Longitude_left',\n",
    "    'info_field' : None\n",
    "}\n",
    "off_dict = {\n",
    "    'DataFrame' : fac_off_df,\n",
    "    'marker_color' : 'yellow',\n",
    "    'marker_fill_color' : 'blue',\n",
    "    'name_field' : 'Name',\n",
    "    'lat_field' : 'Latitude_right',\n",
    "    'long_field' : 'Longitude_right',\n",
    "    'info_field' : None\n",
    "}\n",
    "map_facs_and_offs = mapper2(df_dicts=(fac_dict, off_dict), link_df=fac_off_link_df )\n",
    "display(map_facs_and_offs)"
   ]
  },
  {
   "cell_type": "markdown",
   "id": "13f93349",
   "metadata": {},
   "source": [
    "#### Save the map as HTML"
   ]
  },
  {
   "cell_type": "code",
   "execution_count": null,
   "id": "e9054176",
   "metadata": {},
   "outputs": [],
   "source": [
    "from ipywidgets import widgets\n",
    "filename_widget = widgets.Text(\n",
    "    value='map_facs_to_offs.html',\n",
    "    description=\"Filename\",\n",
    "    disabled=False\n",
    ")\n",
    "filename_widget"
   ]
  },
  {
   "cell_type": "code",
   "execution_count": null,
   "id": "7ae78cf2",
   "metadata": {},
   "outputs": [],
   "source": [
    "map_facs_and_offs.save(filename_widget.value)"
   ]
  },
  {
   "cell_type": "markdown",
   "id": "94aa40b0",
   "metadata": {},
   "source": [
    "## See offsite facilities in the chosen region\n",
    "These offsite facilities may be receiving from other facilities outside of this region. They aren't necessarily linked to the producing facilities in fac_df.\n",
    "\n",
    "The offsite database table does not have a County field, so if our type of region is County, we select all offsite facilities in the state."
   ]
  },
  {
   "cell_type": "code",
   "execution_count": null,
   "id": "71e67442",
   "metadata": {},
   "outputs": [],
   "source": [
    "from ECHO_modules.rsei_utilities import get_rsei_facilities\n",
    "\n",
    "columns = '\"Name\", \"OffsiteID\", \"FacilityNumber\", \"TRIFID\", \"FRSID\", \"Latitude\", \"Longitude\", \"Street\",'\n",
    "columns += '\"City\", \"State\", \"ZIPCode\"'\n",
    "# columns = '*'\n",
    "\n",
    "this_region_type = region_type\n",
    "if region_type == 'County':\n",
    "    this_region_type = 'State'\n",
    "\n",
    "off_df2 = get_rsei_facilities(state=state, region_type=this_region_type, regions_selected=regions_selected, \n",
    "                             rsei_type='offsite', columns=columns)\n",
    "off_df2"
   ]
  },
  {
   "cell_type": "markdown",
   "id": "e48530bc",
   "metadata": {},
   "source": [
    "#### In this map you can use a rectangle to select a subset of the offsite facilities\n",
    "If your region is a county, the offsite facilities selected will initially be all in the state. You can make a selection on this map to filter to the area of your county. (You can only choose a rectangle.)"
   ]
  },
  {
   "cell_type": "code",
   "execution_count": null,
   "id": "1d8653c5",
   "metadata": {},
   "outputs": [],
   "source": [
    "\n",
    "to_map = off_df2.dropna(subset=['Latitude', 'Longitude'])\n",
    "(map, shapes) = ipymapper(off_df2, no_text=False, lat_field='Latitude', long_field='Longitude',\n",
    "                name_field='Name', info_field='POTW_Incin')\n",
    "display(map)"
   ]
  },
  {
   "cell_type": "markdown",
   "id": "af1c1ed0",
   "metadata": {},
   "source": [
    "#### Use either the selected rectangle or choose from the list to use a subset of facilities"
   ]
  },
  {
   "cell_type": "code",
   "execution_count": null,
   "id": "aba4775e",
   "metadata": {},
   "outputs": [],
   "source": [
    "\n",
    "if len(shapes) > 0:\n",
    "    off_df2 = get_facs_in_rect(off_df2, 'Latitude', 'Longitude', shapes)\n",
    "fac_widget = show_fac_widget(off_df2['Name'])"
   ]
  },
  {
   "cell_type": "markdown",
   "id": "3f502600",
   "metadata": {},
   "source": [
    "## What chemicals are imported into the region at these sites, and where do they come from?\n",
    "We had been looking at what chemicals were produced within our region or selected facilities.\n",
    "\n",
    "Now we will look at what facilities within our region are receiving from facilities, either within or outside of the region.\n",
    "\n",
    "The submissions will be filtered to the year range selected earlier."
   ]
  },
  {
   "cell_type": "code",
   "execution_count": null,
   "id": "de42fdfb",
   "metadata": {},
   "outputs": [],
   "source": [
    "# Get releases for these offsite facilities.\n",
    "\n",
    "columns = '\"ReleaseNumber\", \"SubmissionNumber\", \"Media\", \"PoundsReleased\", \"OffsiteNumber\", \"TEF\"'\n",
    "off_rel_df = get_this_by_that(this_name='releases', that_series=off_df2['OffsiteID'], this_key='OffsiteNumber',\n",
    "                          this_columns=columns)\n",
    "\n",
    "# Link releases to offsite facilities\n",
    "off_link_df = off_df2.set_index('OffsiteID').join(off_rel_df.set_index('OffsiteNumber'), how='left').dropna(subset=['ReleaseNumber', \n",
    "                                                                                                                    'SubmissionNumber'])\n",
    "\n",
    "# Get elements for the releases.\n",
    "columns = '\"ReleaseNumber\", \"ElementNumber\", \"PoundsPT\", \"ScoreCategory\", \"Score\", \"Population\", \"ScoreA\", \"PopA\", \"ScoreB\", \"PopB\"'\n",
    "off_element_df = get_this_by_that(this_name='elements', that_series=off_rel_df['ReleaseNumber'], this_key='ReleaseNumber', \n",
    "                              this_columns=columns)\n",
    "off_rel_df = off_rel_df.set_index('ReleaseNumber').join(off_element_df.set_index('ReleaseNumber'), how='left')\n",
    "\n",
    "# Get submissions for the releases.\n",
    "columns = '\"SubmissionNumber\", \"FacilityNumber\", \"ChemicalNumber\", \"SubmissionYear\", \"OneTimeReleaseQty\", \"TradeSecretInd\"'\n",
    "off_sub_df = get_this_by_that(this_name='submissions', that_series=off_rel_df['SubmissionNumber'], this_key='SubmissionNumber',\n",
    "                              this_columns=columns, years=year_range.value, year_field='SubmissionYear')\n",
    "\n",
    "# Get chemicals for the submissions.\n",
    "columns = '\"ChemicalNumber\", \"Chemical\", \"RfCInhale\"'\n",
    "off_sub_df = add_chemical_to_submissions(submissions=off_sub_df, chemical_columns=columns)\n",
    "\n",
    "# Link submissions to offsite facilities.\n",
    "off_link_df2 = off_link_df.set_index('SubmissionNumber').join(off_sub_df.set_index('SubmissionNumber'), how='left', lsuffix='_left', rsuffix='_right')\n",
    "\n",
    "# Get producing facilities from the submissions.\n",
    "columns = '\"FacilityName\", \"FacilityID\", \"FacilityNumber\", \"FRSID\", \"Latitude\", \"Longitude\", \"Street\",'\n",
    "columns += '\"City\", \"County\", \"State\", \"ZIPCode\", \"StandardizedParentCompany\"'\n",
    "off_fac_df = get_this_by_that(this_name='facility', that_series=off_sub_df['FacilityNumber'], this_key='FacilityNumber',\n",
    "                              this_columns=columns)\n",
    "\n",
    "# Link offsite facilities to producing facilities\n",
    "off_link_df3 = off_link_df2.set_index('FacilityNumber_right').join(off_fac_df.set_index('FacilityNumber'), how='left', lsuffix='_left', rsuffix='_right')\n",
    "\n",
    "# Sum pounds released by offsite, producing and chemical\n",
    "off_chem_pounds = off_link_df3.groupby(['Name', 'FacilityName', 'Chemical'])['PoundsReleased'].sum()"
   ]
  },
  {
   "cell_type": "markdown",
   "id": "53761600",
   "metadata": {},
   "source": [
    "#### Write the pounds of chemicals received by offsite facilities"
   ]
  },
  {
   "cell_type": "code",
   "execution_count": null,
   "id": "9e75fa3d",
   "metadata": {},
   "outputs": [],
   "source": [
    "from ipywidgets import widgets\n",
    "filename_widget = widgets.Text(\n",
    "    value='offsite_pounds_received.csv',\n",
    "    description=\"Filename\",\n",
    "    disabled=False\n",
    ")\n",
    "filename_widget"
   ]
  },
  {
   "cell_type": "code",
   "execution_count": null,
   "id": "a0e31a39",
   "metadata": {},
   "outputs": [],
   "source": [
    "off_chem_pounds.to_csv(filename_widget.value)"
   ]
  },
  {
   "cell_type": "code",
   "execution_count": null,
   "id": "83a9bf10",
   "metadata": {},
   "outputs": [],
   "source": [
    "'''\n",
    "Pare the linking information down to just the latitude/longitude for the offsite receiving facility (_left)\n",
    "and the coordinates for the producing facility (_right).\n",
    "There may be multiple transfers between the same two facilities, so we drop duplicates.\n",
    "(The multiple transfers may be of interest. They will exist in link_df3.)\n",
    "'''\n",
    "off_link_df3 = off_link_df3.dropna(subset=['Latitude_left', 'Longitude_left', 'Latitude_right', 'Longitude_right'])\n",
    "off_link_df4 = off_link_df3.drop_duplicates(subset=['Latitude_left', 'Longitude_left', 'Latitude_right', 'Longitude_right'])\n",
    "off_link_df4 = off_link_df4[['Latitude_left', 'Longitude_left', 'Latitude_right', 'Longitude_right']]\n",
    "\n",
    "fac_dict = {\n",
    "    'DataFrame' : off_link_df3,\n",
    "    'marker_color' : 'black',\n",
    "    'marker_fill_color' : 'green',\n",
    "    'name_field' : 'FacilityName',\n",
    "    'lat_field' : 'Latitude_right',\n",
    "    'long_field' : 'Longitude_right',\n",
    "    'info_field' : None\n",
    "}\n",
    "off_dict = {\n",
    "    'DataFrame' : off_link_df3,\n",
    "    'marker_color' : 'yellow',\n",
    "    'marker_fill_color' : 'blue',\n",
    "    'name_field' : 'Name',\n",
    "    'lat_field' : 'Latitude_left',\n",
    "    'long_field' : 'Longitude_left',\n",
    "    'info_field' : None\n",
    "}\n",
    "map_facs_and_offs = mapper2(df_dicts=(fac_dict, off_dict), link_df=off_link_df4 )\n",
    "display(map_facs_and_offs)"
   ]
  },
  {
   "cell_type": "markdown",
   "id": "7304babd",
   "metadata": {},
   "source": [
    "#### Save the map to HTML"
   ]
  },
  {
   "cell_type": "code",
   "execution_count": null,
   "id": "170fe928",
   "metadata": {},
   "outputs": [],
   "source": [
    "from ipywidgets import widgets\n",
    "filename_widget = widgets.Text(\n",
    "    value='map_offs_from_facs.html',\n",
    "    description=\"Filename\",\n",
    "    disabled=False\n",
    ")\n",
    "filename_widget"
   ]
  },
  {
   "cell_type": "code",
   "execution_count": null,
   "id": "765bf79d",
   "metadata": {},
   "outputs": [],
   "source": [
    "map_facs_and_offs.save(filename_widget.value)"
   ]
  },
  {
   "cell_type": "markdown",
   "id": "a6cc3662",
   "metadata": {},
   "source": [
    "## From here down it is just ideas and scratch code"
   ]
  },
  {
   "cell_type": "markdown",
   "id": "ca97b718",
   "metadata": {},
   "source": [
    "### Add the chemicals and pounds released to the facilities dataframe\n",
    "We'll be able to see this information in the popups on the upcoming maps."
   ]
  },
  {
   "cell_type": "code",
   "execution_count": null,
   "id": "9fac2822",
   "metadata": {},
   "outputs": [],
   "source": [
    "# Use fac_chem_pounds to build an info field on fac_df\n",
    "# Truncate the chemical name to 20 characters - truncate(after=20)"
   ]
  },
  {
   "cell_type": "code",
   "execution_count": null,
   "id": "0b4faa68",
   "metadata": {},
   "outputs": [],
   "source": [
    "df = pd.read_csv(filename_widget.value)"
   ]
  },
  {
   "cell_type": "code",
   "execution_count": null,
   "id": "2430fae8",
   "metadata": {},
   "outputs": [],
   "source": [
    "fac_with_chem = fac_df.set_index('FacilityName').join(df.set_index('FacilityName'))\n",
    "fac_with_chem"
   ]
  },
  {
   "cell_type": "code",
   "execution_count": null,
   "id": "a7935789-ea73-4df1-8a59-b916efac8b34",
   "metadata": {},
   "outputs": [],
   "source": [
    "\n",
    "# All the releases where media = 1 (I think that's direct air releases) \n",
    "rsql = 'select * from \"releases_data_rsei_v2312\" where \"Media\" <= 2;' \n",
    "get_echo_data(rsql)\n",
    "# All the releases above a certain weight \n",
    "rsql = 'select * from \"releases_data_rsei_v2312\" where \"PoundsReleased\" > 100000;' \n",
    "releases = get_echo_data(rsql)"
   ]
  },
  {
   "cell_type": "code",
   "execution_count": null,
   "id": "7b168bfc-056a-4748-b007-efec9f290382",
   "metadata": {},
   "outputs": [],
   "source": [
    "len(releases)"
   ]
  },
  {
   "cell_type": "code",
   "execution_count": null,
   "id": "be5326f9-fac2-43bb-9726-fcc33fbda33d",
   "metadata": {
    "scrolled": true
   },
   "outputs": [],
   "source": [
    "# All the releases where media = 1 (I think that's direct air releases) \n",
    "media_sql = 'select \"Media\", \"MediaText\" from \"media_data_rsei_v2312\";' \n",
    "media_types = get_echo_data(media_sql)\n",
    "media_types"
   ]
  },
  {
   "cell_type": "code",
   "execution_count": null,
   "id": "59aaa30c-c285-41d7-af34-5c7230d6f68d",
   "metadata": {},
   "outputs": [],
   "source": [
    "# Get Exxon facilities \n",
    "rsql = 'select * from \"facility_data_rsei_v2312\" where \"StandardizedParentCompany\" like \\'%EXXON%\\';' \n",
    "facs = get_echo_data(rsql) \n",
    "# Get their submissions \n",
    "these_fac_numbers = list(facs[\"FacilityNumber\"].unique()) \n",
    "rsql = 'select * from \"submissions_data_rsei_v2312\" where \"FacilityNumber\" in ({});'.format(','.join([str(fac) for fac in these_fac_numbers])) \n",
    "# You shouldn't do SQL like this but I'm being quick \n",
    "subs = get_echo_data(rsql) \n",
    "\n",
    "# Use these submission numbers to get releases \n",
    "# Ok, actually there are too many submissions (>20,000) to easily get all the Exxon releases from the database. \n",
    "# An enterprising SQL writer could do this with some joins, I bet! No time right now for me though \n",
    "# But this is the general idea.... \n",
    "these_submission_numbers = list(subs[\"SubmissionNumber\"].unique())[0:50] \n",
    "# Just do the first 50 as a test \n",
    "rsql = 'select * from \"releases_data_rsei_v2312\" where \"SubmissionNumber\" in ({});'.format(','.join([str(fac) for fac in these_submission_numbers])) \n",
    "res = get_echo_data(rsql) \n",
    "res"
   ]
  },
  {
   "cell_type": "markdown",
   "id": "f30a79e0",
   "metadata": {},
   "source": [
    "### Filter the submissions to specific chemicals\n",
    "There may be many different chemicals in the submission list. We provide this way of making it a little easier to choose which chemicals we want to see.\n",
    "\n",
    "We can print the chemicals to a file, work with it externally to select the set of chemicals we are interested in. Then we can read in our selections rather than have to pick them out of a long list of chemicals a few cells later.\n",
    "\n",
    "If there aren't too many chemicals you can skip this file writing and reading and select the chemicals from the full list."
   ]
  },
  {
   "cell_type": "code",
   "execution_count": null,
   "id": "996386c1",
   "metadata": {},
   "outputs": [],
   "source": [
    "from ipywidgets import widgets\n",
    "filename_widget = widgets.Text(\n",
    "    value='chemicals.csv',\n",
    "    description=\"Filename\",\n",
    "    disabled=False\n",
    ")\n",
    "filename_widget\n",
    " "
   ]
  },
  {
   "cell_type": "code",
   "execution_count": null,
   "id": "3ef102f4",
   "metadata": {},
   "outputs": [],
   "source": [
    "from ECHO_modules.get_data import get_echo_data\n",
    "\n",
    "chemicals = \"'1,2,4-Trichlorobenzene', '1,2,4-Trimethylbenzene', 'Benzene', 'Hexachlorobenzene', \"\n",
    "chemicals += \"'Mercury', 'Mercury compounds', 'Polychlorinated biphenyls ', 'Polycyclic aromatic compounds'\"\n",
    "\n",
    "sql = f'select \"ChemicalNumber\", \"Chemical\" from \"chemical_data_rsei_v2312\" where \"Chemical\" in ({chemicals})'\n",
    "df = get_echo_data(sql)\n",
    "df\n",
    "\n",
    "chemical_numbers = \"51, 321, 359, 360, 474, 564, 575, 609\""
   ]
  }
 ],
 "metadata": {
  "kernelspec": {
   "display_name": "venv",
   "language": "python",
   "name": "python3"
  },
  "language_info": {
   "codemirror_mode": {
    "name": "ipython",
    "version": 3
   },
   "file_extension": ".py",
   "mimetype": "text/x-python",
   "name": "python",
   "nbconvert_exporter": "python",
   "pygments_lexer": "ipython3",
   "version": "3.13.3"
  },
  "widgets": {
   "application/vnd.jupyter.widget-state+json": {
    "state": {
     "2202195048d64d1cb5872201eecc382b": {
      "model_module": "jupyter-leaflet",
      "model_module_version": "^0.19",
      "model_name": "LeafletDrawControlModel",
      "state": {
       "_model_module_version": "^0.19",
       "_view_module_version": "^0.19",
       "circlemarker": {
        "shapeOptions": {}
       },
       "data": [
        {
         "geometry": {
          "coordinates": [
           [
            [
             -105.005264,
             39.729264
            ],
            [
             -105.005264,
             39.890667
            ],
            [
             -104.782791,
             39.890667
            ],
            [
             -104.782791,
             39.729264
            ],
            [
             -105.005264,
             39.729264
            ]
           ]
          ],
          "type": "Polygon"
         },
         "properties": {
          "style": {
           "clickable": true,
           "color": "#fca45d",
           "fill": true,
           "fillColor": "#fca45d",
           "fillOpacity": 0.25,
           "opacity": 0.5,
           "stroke": true,
           "weight": 4
          }
         },
         "type": "Feature"
        }
       ],
       "options": [
        "position"
       ],
       "polygon": {
        "shapeOptions": {
         "clickable": true,
         "color": "#3388ff",
         "fill": true,
         "fillColor": null,
         "fillOpacity": 0.2,
         "opacity": 0.5,
         "stroke": true,
         "weight": 4
        }
       },
       "polyline": {
        "shapeOptions": {
         "clickable": true,
         "color": "#3388ff",
         "fill": false,
         "opacity": 0.5,
         "stroke": true,
         "weight": 4
        }
       },
       "rectangle": {
        "shapeOptions": {
         "clickable": true,
         "color": "#fca45d",
         "fill": true,
         "fillColor": "#fca45d",
         "fillOpacity": 0.25,
         "opacity": 0.5,
         "stroke": true,
         "weight": 4
        }
       }
      }
     },
     "3b4e71f022c947569b614e37d7503b61": {
      "model_module": "@jupyter-widgets/base",
      "model_module_version": "2.0.0",
      "model_name": "LayoutModel",
      "state": {}
     },
     "4a0bcb4ac04c40d4810e8e23458f73bb": {
      "model_module": "jupyter-leaflet",
      "model_module_version": "^0.19",
      "model_name": "LeafletMapStyleModel",
      "state": {
       "_model_module_version": "^0.19"
      }
     },
     "5ecde734cad44485ac3cba68fbf4102b": {
      "model_module": "@jupyter-widgets/controls",
      "model_module_version": "2.0.0",
      "model_name": "DescriptionStyleModel",
      "state": {
       "description_width": "initial"
      }
     },
     "68c50f942e564cb59ae371ca5f03a910": {
      "model_module": "@jupyter-widgets/controls",
      "model_module_version": "2.0.0",
      "model_name": "DropdownModel",
      "state": {
       "_options_labels": [
        "AK",
        "AL",
        "AR",
        "AZ",
        "CA",
        "CO",
        "CT",
        "DC",
        "DE",
        "FL",
        "GA",
        "HI",
        "IA",
        "ID",
        "IL",
        "IN",
        "KS",
        "KY",
        "LA",
        "MA",
        "MD",
        "ME",
        "MI",
        "MN",
        "MO",
        "MS",
        "MT",
        "NC",
        "ND",
        "NE",
        "NH",
        "NJ",
        "NM",
        "NV",
        "NY",
        "OH",
        "OK",
        "OR",
        "PA",
        "RI",
        "SC",
        "SD",
        "TN",
        "TX",
        "UT",
        "VA",
        "VT",
        "WA",
        "WI",
        "WV",
        "WY"
       ],
       "description": "State:",
       "index": 5,
       "layout": "IPY_MODEL_3b4e71f022c947569b614e37d7503b61",
       "style": "IPY_MODEL_6a4fdf6a62484afb86accfb1eae98f52"
      }
     },
     "6a4fdf6a62484afb86accfb1eae98f52": {
      "model_module": "@jupyter-widgets/controls",
      "model_module_version": "2.0.0",
      "model_name": "DescriptionStyleModel",
      "state": {
       "description_width": ""
      }
     },
     "72a7ccef07ab4289b95708d1f11cea46": {
      "model_module": "jupyter-leaflet",
      "model_module_version": "^0.19",
      "model_name": "LeafletMapModel",
      "state": {
       "_model_module_version": "^0.19",
       "_view_module_version": "^0.19",
       "bottom": 99390,
       "center": [
        39.84439484396462,
        -104.82467651367189
       ],
       "controls": [
        "IPY_MODEL_7cbf24dd1f054d0ba6f06cb55f40b5d7",
        "IPY_MODEL_fab0419835854b189fe1f698ec033632",
        "IPY_MODEL_2202195048d64d1cb5872201eecc382b"
       ],
       "default_style": "IPY_MODEL_4a0bcb4ac04c40d4810e8e23458f73bb",
       "dragging_style": "IPY_MODEL_efaac1a2065f43d88698c424af80cfb1",
       "east": -104.82467651367189,
       "fullscreen": false,
       "interpolation": "bilinear",
       "layers": [
        "IPY_MODEL_d090e2770a7d4bccbd8edfa30f67ba29"
       ],
       "layout": "IPY_MODEL_97781ce9739f4407bc0d8b401b86cb3e",
       "left": 54741,
       "min_zoom": 2,
       "modisdate": "2025-03-30",
       "north": 39.84439484396462,
       "options": [
        "bounce_at_zoom_limits",
        "box_zoom",
        "center",
        "close_popup_on_click",
        "double_click_zoom",
        "dragging",
        "fullscreen",
        "inertia",
        "inertia_deceleration",
        "inertia_max_speed",
        "interpolation",
        "keyboard",
        "keyboard_pan_offset",
        "keyboard_zoom_offset",
        "max_zoom",
        "min_zoom",
        "prefer_canvas",
        "scroll_wheel_zoom",
        "tap",
        "tap_tolerance",
        "touch_zoom",
        "world_copy_jump",
        "zoom",
        "zoom_animation_threshold",
        "zoom_delta",
        "zoom_snap"
       ],
       "prefer_canvas": false,
       "right": 54741,
       "scroll_wheel_zoom": true,
       "south": 39.84439484396462,
       "style": "IPY_MODEL_4a0bcb4ac04c40d4810e8e23458f73bb",
       "top": 99390,
       "west": -104.82467651367189,
       "window_url": "http://localhost:8888/notebooks/RSEI/RSEI.ipynb",
       "zoom": 10
      }
     },
     "7cbf24dd1f054d0ba6f06cb55f40b5d7": {
      "model_module": "jupyter-leaflet",
      "model_module_version": "^0.19",
      "model_name": "LeafletZoomControlModel",
      "state": {
       "_model_module_version": "^0.19",
       "_view_module_version": "^0.19",
       "options": [
        "position",
        "zoom_in_text",
        "zoom_in_title",
        "zoom_out_text",
        "zoom_out_title"
       ]
      }
     },
     "97781ce9739f4407bc0d8b401b86cb3e": {
      "model_module": "@jupyter-widgets/base",
      "model_module_version": "2.0.0",
      "model_name": "LayoutModel",
      "state": {}
     },
     "9857a18fbc684800956519afad4a803e": {
      "model_module": "jupyter-leaflet",
      "model_module_version": "^0.19",
      "model_name": "LeafletMapStyleModel",
      "state": {
       "_model_module_version": "^0.19"
      }
     },
     "cba7c7d500284f01a6bd4f3c30a96296": {
      "model_module": "@jupyter-widgets/controls",
      "model_module_version": "2.0.0",
      "model_name": "DropdownModel",
      "state": {
       "_options_labels": [
        "State",
        "Congressional District",
        "County",
        "Zip Code",
        "Watershed",
        "Census Tract",
        "Neighborhood"
       ],
       "description": "Region of interest:",
       "index": 6,
       "layout": "IPY_MODEL_f840a166e81f4b8abf9ee158a50d3b78",
       "style": "IPY_MODEL_5ecde734cad44485ac3cba68fbf4102b"
      }
     },
     "d090e2770a7d4bccbd8edfa30f67ba29": {
      "model_module": "jupyter-leaflet",
      "model_module_version": "^0.19",
      "model_name": "LeafletTileLayerModel",
      "state": {
       "_model_module_version": "^0.19",
       "_view_module_version": "^0.19",
       "attribution": "Tiles &copy; Esri &mdash; National Geographic, Esri, DeLorme, NAVTEQ, UNEP-WCMC, USGS, NASA, ESA, METI, NRCAN, GEBCO, NOAA, iPC",
       "max_zoom": 16,
       "min_zoom": 1,
       "name": "Esri.NatGeoWorldMap",
       "options": [
        "attribution",
        "bounds",
        "detect_retina",
        "max_native_zoom",
        "max_zoom",
        "min_native_zoom",
        "min_zoom",
        "no_wrap",
        "tile_size",
        "tms",
        "zoom_offset"
       ],
       "url": "https://server.arcgisonline.com/ArcGIS/rest/services/NatGeo_World_Map/MapServer/tile/{z}/{y}/{x}"
      }
     },
     "efaac1a2065f43d88698c424af80cfb1": {
      "model_module": "jupyter-leaflet",
      "model_module_version": "^0.19",
      "model_name": "LeafletMapStyleModel",
      "state": {
       "_model_module_version": "^0.19",
       "cursor": "move"
      }
     },
     "f840a166e81f4b8abf9ee158a50d3b78": {
      "model_module": "@jupyter-widgets/base",
      "model_module_version": "2.0.0",
      "model_name": "LayoutModel",
      "state": {}
     },
     "fab0419835854b189fe1f698ec033632": {
      "model_module": "jupyter-leaflet",
      "model_module_version": "^0.19",
      "model_name": "LeafletAttributionControlModel",
      "state": {
       "_model_module_version": "^0.19",
       "_view_module_version": "^0.19",
       "options": [
        "position",
        "prefix"
       ],
       "position": "bottomright",
       "prefix": "ipyleaflet"
      }
     }
    },
    "version_major": 2,
    "version_minor": 0
   }
  }
 },
 "nbformat": 4,
 "nbformat_minor": 5
}
